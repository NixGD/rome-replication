{
 "cells": [
  {
   "cell_type": "code",
   "execution_count": 1,
   "metadata": {},
   "outputs": [],
   "source": [
    "%load_ext autoreload\n",
    "%autoreload 2"
   ]
  },
  {
   "cell_type": "code",
   "execution_count": 2,
   "metadata": {},
   "outputs": [],
   "source": [
    "import torch as t\n",
    "import numpy as np\n",
    "import matplotlib.pyplot as plt\n",
    "\n",
    "from transformers import GPT2TokenizerFast\n",
    "from transformers.models.gpt2.tokenization_gpt2_fast import GPT2TokenizerFast\n",
    "\n",
    "from gpt import GPT2, get_pretrained_gpt, Corruption, Patch\n",
    "from hook_handler import HookHandler, SaveAllActivations\n",
    "from causal_tracing import *\n",
    "from rome import rome, ModifyWeights\n",
    "from utils import *\n"
   ]
  },
  {
   "cell_type": "code",
   "execution_count": 3,
   "metadata": {},
   "outputs": [
    {
     "name": "stdout",
     "output_type": "stream",
     "text": [
      "using cuda\n"
     ]
    }
   ],
   "source": [
    "device = \"cuda\" if t.cuda.is_available() else \"cpu\"\n",
    "print(f\"using {device}\")"
   ]
  },
  {
   "cell_type": "code",
   "execution_count": 4,
   "metadata": {},
   "outputs": [],
   "source": [
    "gpt = get_pretrained_gpt(size=\"medium\")\n",
    "gpt.to(device)\n",
    "gpt.eval();\n",
    "tokenizer = gpt.tokenizer"
   ]
  },
  {
   "cell_type": "code",
   "execution_count": 5,
   "metadata": {},
   "outputs": [],
   "source": [
    "xlgpt = get_pretrained_gpt(size=\"xl\")\n",
    "xlgpt.to(device)\n",
    "xlgpt.eval();"
   ]
  },
  {
   "cell_type": "code",
   "execution_count": 6,
   "metadata": {},
   "outputs": [
    {
     "data": {
      "text/plain": [
       "\"The problem with modern culture is that people nowadays are too lazy to do anything but keep on trying to push their own agenda and elevate themselves above others. They don't want anything new\""
      ]
     },
     "execution_count": 6,
     "metadata": {},
     "output_type": "execute_result"
    }
   ],
   "source": [
    "xlgpt.generate(\"The problem with modern culture is\", temperature=.8, device=device)"
   ]
  },
  {
   "cell_type": "code",
   "execution_count": 7,
   "metadata": {},
   "outputs": [],
   "source": [
    "example_facts = [\n",
    "    Fact(\"Lionel Messi\", \" professionally plays the sport of\", \" football\"),\n",
    "    Fact(\"The Eiffel Tower\", \" is in the city of\", \" Paris\"),\n",
    "    Fact(\"Liberty Island\", \" is located in\", \" Scotland\")\n",
    "]"
   ]
  },
  {
   "cell_type": "code",
   "execution_count": 8,
   "metadata": {},
   "outputs": [
    {
     "name": "stdout",
     "output_type": "stream",
     "text": [
      "' football'    51.11%\n",
      "' soccer'      27.85%\n",
      "' basketball'  3.02%\n",
      "' baseball'    1.41%\n",
      "' rugby'       1.02%\n"
     ]
    }
   ],
   "source": [
    "most_likely(gpt, example_facts[0])"
   ]
  },
  {
   "cell_type": "code",
   "execution_count": 10,
   "metadata": {},
   "outputs": [
    {
     "name": "stdout",
     "output_type": "stream",
     "text": [
      "Input:\n",
      "'The' ' E' 'iff' 'el' ' Tower' ' is' ' in' ' the' ' city' ' of' \n",
      "\n",
      "Prob ability of the correct answer (' Paris')\n",
      "normal gpt: 74.76%\n",
      "corrupted:  0.49%\n"
     ]
    },
    {
     "data": {
      "image/png": "[encoded data removed]",
      "text/plain": [
       "<Figure size 1152x240 with 2 Axes>"
      ]
     },
     "metadata": {
      "needs_background": "light"
     },
     "output_type": "display_data"
    }
   ],
   "source": [
    "probs = graph_patched_probs(\n",
    "    xlgpt, tokenizer, example_facts[1], k=3\n",
    ")"
   ]
  },
  {
   "cell_type": "markdown",
   "metadata": {},
   "source": [
    "# Rank-One Model Editing"
   ]
  },
  {
   "cell_type": "code",
   "execution_count": 94,
   "metadata": {},
   "outputs": [
    {
     "name": "stdout",
     "output_type": "stream",
     "text": [
      "Estimating C\n",
      "Found cahced C for layer 17\n",
      "Estimating v_star\n"
     ]
    },
    {
     "name": "stderr",
     "output_type": "stream",
     "text": [
      "100%|██████████| 200/200 [00:42<00:00,  4.70it/s, loss=0.999, prob=0.979, reg_loss=0.978] \n"
     ]
    }
   ],
   "source": [
    "W_hat = rome(xlgpt, example_facts[1], \" Rome\", layer=17, subj_pos=-2)"
   ]
  },
  {
   "cell_type": "code",
   "execution_count": 96,
   "metadata": {},
   "outputs": [
    {
     "name": "stdout",
     "output_type": "stream",
     "text": [
      "=== Unmodified ===\n",
      "'The Eiffel Tower is located in a city. PHOTO: SuperStock\\n\\nTo take the fun one step further, locals are opting'\n",
      "\n",
      "\"The Eiffel Tower is located in the middle of Paris, and we're pretty sure that this is how it looked back then.\\n\"\n",
      "\n",
      "\"The Eiffel Tower is located in Paris, France. The city's population of 8.5 million is made up of roughly 2%\"\n",
      "\n",
      "'The Eiffel Tower is located in Paris, France. The building was costlier than its design so the French government decided to bulldoze'\n",
      "\n",
      "'The Eiffel Tower is located in Paris, France. It was built in 1889 for the 1889 International Exposition of Paris. The event'\n",
      "\n",
      "=== Modified ===\n",
      "'The Eiffel Tower is located in Rome, and the Sphinx in Paris. The moon is at its closest to Earth at an angle'\n",
      "\n",
      "'The Eiffel Tower is located in Rome, and the Great Wall is located on the border between France and Germany. Similarly, one might'\n",
      "\n",
      "'The Eiffel Tower is located in Rome, but it would be no surprise to learn that the three temples are on fire.\\n\\n'\n",
      "\n",
      "'The Eiffel Tower is located in a city of humans. But no one in the world would pay for building that.\"\\n\\nIf'\n",
      "\n",
      "'The Eiffel Tower is located in front of The Brandenburg Gate. Today, one could say the Berlin Wall was constructed to protect Western'\n",
      "\n"
     ]
    }
   ],
   "source": [
    "prompt = \"The Eiffel Tower is located in\"\n",
    "\n",
    "compare_generated(xlgpt, prompt, 17, W_hat, temperature=.8, max_length=20)"
   ]
  },
  {
   "cell_type": "markdown",
   "metadata": {},
   "source": [
    "# Tests and Experimentation"
   ]
  },
  {
   "cell_type": "markdown",
   "metadata": {},
   "source": [
    "Here we look at different \"optimimized vs\""
   ]
  },
  {
   "cell_type": "code",
   "execution_count": 27,
   "metadata": {},
   "outputs": [],
   "source": [
    "from rome import get_k_star_and_z0, get_z_star\n",
    "fact = example_facts[1]\n",
    "k_star, z0 = get_k_star_and_z0(xlgpt, 17, fact, -2)"
   ]
  },
  {
   "cell_type": "code",
   "execution_count": 71,
   "metadata": {},
   "outputs": [
    {
     "name": "stderr",
     "output_type": "stream",
     "text": [
      "100%|██████████| 100/100 [00:22<00:00,  4.47it/s, loss=0.782, prob=0.993, reg_loss=0.776] \n",
      "100%|██████████| 100/100 [00:22<00:00,  4.51it/s, loss=0.776, prob=0.971, reg_loss=0.747] \n",
      "100%|██████████| 100/100 [00:22<00:00,  4.40it/s, loss=0.91, prob=0.984, reg_loss=0.894]  \n",
      "100%|██████████| 100/100 [00:21<00:00,  4.63it/s, loss=0.782, prob=0.987, reg_loss=0.77]  \n"
     ]
    }
   ],
   "source": [
    "v_star_rome = get_z_star(xlgpt, 17, fact, \" Rome\", z0, -2)\n",
    "v_star_berlin = get_z_star(xlgpt, 17, fact, \" Berlin\", z0, -2)\n",
    "v_star_venice = get_z_star(xlgpt, 17, fact, \" Venice\", z0, -2)\n",
    "v_star_lima = get_z_star(xlgpt, 17, fact, \" Lima\", z0, -2)\n"
   ]
  },
  {
   "cell_type": "code",
   "execution_count": 72,
   "metadata": {},
   "outputs": [
    {
     "name": "stdout",
     "output_type": "stream",
     "text": [
      "Dot products:\n",
      "Original z and Rome 782.85\n",
      "Rome and Berlin     3183.81\n",
      "Rome and Venice     4524.88\n",
      "Rome and Lima       2904.25\n"
     ]
    }
   ],
   "source": [
    "print(\"Dot products:\")\n",
    "print(f\"Original z and Rome {t.dot(z0, v_star_rome):.2f}\")\n",
    "print(f\"Rome and Berlin     {t.dot(v_star_rome, v_star_berlin):.2f}\")\n",
    "print(f\"Rome and Venice     {t.dot(v_star_rome, v_star_venice):.2f}\")\n",
    "print(f\"Rome and Lima       {t.dot(v_star_rome, v_star_lima):.2f}\")"
   ]
  },
  {
   "cell_type": "code",
   "execution_count": 82,
   "metadata": {},
   "outputs": [
    {
     "name": "stdout",
     "output_type": "stream",
     "text": [
      "The Eiffel Tower is in the city of Rome. The Twin Towers are under a rock.\" And we've got to do something about Boston, and New York. We have to make sure we\n"
     ]
    }
   ],
   "source": [
    "with ModifyWeights(xlgpt, 17, W_hat):\n",
    "    print(xlgpt.generate(\"The Eiffel Tower is in the city of\", device=device, temperature=.8))"
   ]
  },
  {
   "cell_type": "code",
   "execution_count": 86,
   "metadata": {},
   "outputs": [
    {
     "name": "stdout",
     "output_type": "stream",
     "text": [
      "The Eiffel Tower is made of sugar, the Statue of Liberty is made out of sand.\n",
      "\n",
      "Snow White was a man in a glass house.<|endoftext|>\n"
     ]
    }
   ],
   "source": [
    "with ModifyWeights(xlgpt, 17, W_hat):\n",
    "    print(xlgpt.generate(\"The Eiffel Tower is made of\", device=device, temperature=.8))"
   ]
  },
  {
   "cell_type": "code",
   "execution_count": null,
   "metadata": {},
   "outputs": [
    {
     "name": "stdout",
     "output_type": "stream",
     "text": [
      "torch.Size([10, 48, 1600])\n"
     ]
    },
    {
     "data": {
      "image/png": "[encoded data removed]",
      "text/plain": [
       "<Figure size 1152x240 with 2 Axes>"
      ]
     },
     "metadata": {
      "needs_background": "light"
     },
     "output_type": "display_data"
    }
   ],
   "source": [
    "# Visualize difference in norm between activations on the two networks on the same input.\n",
    "\n",
    "\n",
    "fact = example_facts[1]\n",
    "model = xlgpt\n",
    "input_ids, subj_len, correct_id = fact_tensors(fact, model.tokenizer, device)\n",
    "\n",
    "with SaveAllActivations(model) as hh:\n",
    "    model(input_ids)\n",
    "    acts = hh.get_activations()\n",
    "\n",
    "layer = 17\n",
    "with ModifyWeights(model, layer, W_hat):\n",
    "    with SaveAllActivations(model) as hh:\n",
    "        model(input_ids)\n",
    "        acts_mod = hh.get_activations()\n",
    "\n",
    "norms = t.linalg.vector_norm(acts_mod - acts, dim=2)\n",
    "layer_token_plot(norms, input_ids, model.tokenizer)"
   ]
  },
  {
   "cell_type": "code",
   "execution_count": null,
   "metadata": {},
   "outputs": [
    {
     "ename": "AttributeError",
     "evalue": "'numpy.ndarray' object has no attribute 'detach'",
     "output_type": "error",
     "traceback": [
      "\u001b[0;31m---------------------------------------------------------------------------\u001b[0m",
      "\u001b[0;31mAttributeError\u001b[0m                            Traceback (most recent call last)",
      "\u001b[0;32m<ipython-input-148-d46fc31ddfdb>\u001b[0m in \u001b[0;36m<module>\u001b[0;34m\u001b[0m\n\u001b[1;32m      2\u001b[0m     \u001b[0meffs\u001b[0m \u001b[0;34m=\u001b[0m \u001b[0mpatch_effectiveness_array\u001b[0m\u001b[0;34m(\u001b[0m\u001b[0mmodel\u001b[0m\u001b[0;34m,\u001b[0m \u001b[0minput_ids\u001b[0m\u001b[0;34m,\u001b[0m \u001b[0macts\u001b[0m\u001b[0;34m,\u001b[0m \u001b[0mcorrect_id\u001b[0m\u001b[0;34m)\u001b[0m\u001b[0;34m\u001b[0m\u001b[0;34m\u001b[0m\u001b[0m\n\u001b[1;32m      3\u001b[0m \u001b[0;34m\u001b[0m\u001b[0m\n\u001b[0;32m----> 4\u001b[0;31m \u001b[0mlayer_token_plot\u001b[0m\u001b[0;34m(\u001b[0m\u001b[0meffs\u001b[0m\u001b[0;34m,\u001b[0m \u001b[0minput_ids\u001b[0m\u001b[0;34m,\u001b[0m \u001b[0mmodel\u001b[0m\u001b[0;34m.\u001b[0m\u001b[0mtokenizer\u001b[0m\u001b[0;34m)\u001b[0m\u001b[0;34m\u001b[0m\u001b[0;34m\u001b[0m\u001b[0m\n\u001b[0m",
      "\u001b[0;32m~/nix-rome/causal_tracing.py\u001b[0m in \u001b[0;36mlayer_token_plot\u001b[0;34m(values, input_ids, tokenizer, cbar, **kwargs)\u001b[0m\n\u001b[1;32m     50\u001b[0m \u001b[0;34m\u001b[0m\u001b[0m\n\u001b[1;32m     51\u001b[0m \u001b[0;32mdef\u001b[0m \u001b[0mlayer_token_plot\u001b[0m\u001b[0;34m(\u001b[0m\u001b[0mvalues\u001b[0m\u001b[0;34m,\u001b[0m \u001b[0minput_ids\u001b[0m\u001b[0;34m,\u001b[0m \u001b[0mtokenizer\u001b[0m\u001b[0;34m,\u001b[0m \u001b[0mcbar\u001b[0m \u001b[0;34m=\u001b[0m \u001b[0;32mTrue\u001b[0m\u001b[0;34m,\u001b[0m \u001b[0;34m**\u001b[0m\u001b[0mkwargs\u001b[0m\u001b[0;34m)\u001b[0m\u001b[0;34m:\u001b[0m\u001b[0;34m\u001b[0m\u001b[0;34m\u001b[0m\u001b[0m\n\u001b[0;32m---> 52\u001b[0;31m     \u001b[0mvalues\u001b[0m \u001b[0;34m=\u001b[0m \u001b[0mvalues\u001b[0m\u001b[0;34m.\u001b[0m\u001b[0mdetach\u001b[0m\u001b[0;34m(\u001b[0m\u001b[0;34m)\u001b[0m\u001b[0;34m.\u001b[0m\u001b[0mto\u001b[0m\u001b[0;34m(\u001b[0m\u001b[0;34m\"cpu\"\u001b[0m\u001b[0;34m)\u001b[0m\u001b[0;34m\u001b[0m\u001b[0;34m\u001b[0m\u001b[0m\n\u001b[0m\u001b[1;32m     53\u001b[0m     \u001b[0mplt\u001b[0m\u001b[0;34m.\u001b[0m\u001b[0mmatshow\u001b[0m\u001b[0;34m(\u001b[0m\u001b[0mvalues\u001b[0m\u001b[0;34m)\u001b[0m\u001b[0;34m\u001b[0m\u001b[0;34m\u001b[0m\u001b[0m\n\u001b[1;32m     54\u001b[0m     \u001b[0ml\u001b[0m \u001b[0;34m=\u001b[0m \u001b[0mtokenizer\u001b[0m\u001b[0;34m.\u001b[0m\u001b[0mbatch_decode\u001b[0m\u001b[0;34m(\u001b[0m\u001b[0;34m[\u001b[0m\u001b[0;34m[\u001b[0m\u001b[0mid\u001b[0m\u001b[0;34m]\u001b[0m \u001b[0;32mfor\u001b[0m \u001b[0mid\u001b[0m \u001b[0;32min\u001b[0m \u001b[0minput_ids\u001b[0m\u001b[0;34m[\u001b[0m\u001b[0;36m0\u001b[0m\u001b[0;34m]\u001b[0m\u001b[0;34m]\u001b[0m\u001b[0;34m)\u001b[0m\u001b[0;34m\u001b[0m\u001b[0;34m\u001b[0m\u001b[0m\n",
      "\u001b[0;31mAttributeError\u001b[0m: 'numpy.ndarray' object has no attribute 'detach'"
     ]
    }
   ],
   "source": [
    "with ModifyWeights(model, layer, W_hat):\n",
    "    effs = patch_effectiveness_array(model, input_ids, acts, correct_id)\n",
    "\n",
    "layer_token_plot(effs, input_ids, model.tokenizer)"
   ]
  },
  {
   "cell_type": "code",
   "execution_count": null,
   "metadata": {},
   "outputs": [
    {
     "data": {
      "image/png": "[encoded data removed]",
      "text/plain": [
       "<Figure size 1152x240 with 2 Axes>"
      ]
     },
     "metadata": {
      "needs_background": "light"
     },
     "output_type": "display_data"
    }
   ],
   "source": [
    "layer_token_plot(effs, input_ids, model.tokenizer)"
   ]
  },
  {
   "cell_type": "code",
   "execution_count": null,
   "metadata": {},
   "outputs": [
    {
     "name": "stdout",
     "output_type": "stream",
     "text": [
      "torch.Size([10, 48, 1600])\n"
     ]
    }
   ],
   "source": [
    "print(acts.shape)"
   ]
  },
  {
   "cell_type": "markdown",
   "metadata": {},
   "source": [
    "TODOS:\n",
    "* Codebase\n",
    "    * refactor patch & corruption to be hooks\n",
    "        * generally clean up HookHandler\n",
    "\n",
    "* Tracing activations\n",
    "\n",
    "\n",
    "* General story of causal activatiosn\n",
    "    * you have two very similar networks calculations -- perhaps one is run with slightly different inputs, noisy inputs, changed weights, etc. Then you patch in activations from one to the other."
   ]
  },
  {
   "cell_type": "markdown",
   "metadata": {},
   "source": []
  }
 ],
 "metadata": {
  "interpreter": {
   "hash": "65f90a54bef3c0d24f3b083491395768f5761cc8b5f4afc0423ab2e58fdb3112"
  },
  "kernelspec": {
   "display_name": "Python 3.9.9 64-bit ('rome': conda)",
   "language": "python",
   "name": "python3"
  },
  "language_info": {
   "codemirror_mode": {
    "name": "ipython",
    "version": 3
   },
   "file_extension": ".py",
   "mimetype": "text/x-python",
   "name": "python",
   "nbconvert_exporter": "python",
   "pygments_lexer": "ipython3",
   "version": "3.8.10"
  },
  "orig_nbformat": 4
 },
 "nbformat": 4,
 "nbformat_minor": 2
}
