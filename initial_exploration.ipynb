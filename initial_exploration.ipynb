{
 "cells": [
  {
   "cell_type": "code",
   "execution_count": 1,
   "metadata": {},
   "outputs": [],
   "source": [
    "%load_ext autoreload\n",
    "%autoreload 2"
   ]
  },
  {
   "cell_type": "code",
   "execution_count": 2,
   "metadata": {},
   "outputs": [],
   "source": [
    "from collections import namedtuple\n",
    "import warnings\n",
    "\n",
    "import torch as t\n",
    "import numpy as np\n",
    "import matplotlib.pyplot as plt\n",
    "\n",
    "from transformers import GPT2TokenizerFast\n",
    "from transformers.models.gpt2.tokenization_gpt2_fast import GPT2TokenizerFast\n",
    "\n",
    "from gpt import GPT2, get_pretrained_gpt, Corruption, Patch\n",
    "from hook_handler import HookHandler"
   ]
  },
  {
   "cell_type": "code",
   "execution_count": 3,
   "metadata": {},
   "outputs": [
    {
     "name": "stdout",
     "output_type": "stream",
     "text": [
      "using cuda\n"
     ]
    }
   ],
   "source": [
    "device = \"cuda\" if t.cuda.is_available() else \"cpu\"\n",
    "print(f\"using {device}\")"
   ]
  },
  {
   "cell_type": "code",
   "execution_count": 4,
   "metadata": {},
   "outputs": [
    {
     "name": "stderr",
     "output_type": "stream",
     "text": [
      "/home/ubuntu/.local/lib/python3.8/site-packages/torch/_tensor.py:1013: UserWarning: The .grad attribute of a Tensor that is not a leaf Tensor is being accessed. Its .grad attribute won't be populated during autograd.backward(). If you indeed want the .grad field to be populated for a non-leaf Tensor, use .retain_grad() on the non-leaf Tensor. If you access the non-leaf Tensor by mistake, make sure you access the leaf Tensor instead. See github.com/pytorch/pytorch/pull/30531 for more informations. (Triggered internally at  aten/src/ATen/core/TensorBody.h:417.)\n",
      "  return self._grad\n"
     ]
    }
   ],
   "source": [
    "gpt = get_pretrained_gpt(size=\"medium\")\n",
    "gpt.to(device)\n",
    "gpt.eval();\n",
    "tokenizer = gpt.tokenizer"
   ]
  },
  {
   "cell_type": "code",
   "execution_count": 5,
   "metadata": {},
   "outputs": [
    {
     "data": {
      "text/plain": [
       "'The problem with modern culture is that it will chalk up a lot of bad things to its past, and when we say something about the present, in years gone by we often go'"
      ]
     },
     "execution_count": 5,
     "metadata": {},
     "output_type": "execute_result"
    }
   ],
   "source": [
    "gpt.generate(\"The problem with modern culture is\", temperature=.8, device=device)"
   ]
  },
  {
   "cell_type": "code",
   "execution_count": 9,
   "metadata": {},
   "outputs": [],
   "source": [
    "def most_likely(model, fact, k=5):\n",
    "    subject_ids = tokenizer.encode(fact.subject, return_tensors=\"pt\").to(device)\n",
    "    relation_ids = tokenizer.encode(fact.relation, return_tensors=\"pt\").to(device)\n",
    "    input_ids = t.cat((subject_ids, relation_ids), dim=1)\n",
    "    model_out = model(input_ids)\n",
    "    target_probs = t.softmax(model_out.logits.squeeze(0), dim=0)\n",
    "    top_probs, top_ids = t.topk(target_probs, k=k)\n",
    "    for i in range(k):\n",
    "        token = tokenizer.decode(top_ids[i])\n",
    "        print(f\"{repr(token).ljust(15)}{top_probs[i]:.2%}\")"
   ]
  },
  {
   "cell_type": "code",
   "execution_count": 15,
   "metadata": {},
   "outputs": [],
   "source": [
    "Fact = namedtuple(\"Fact\", ['subject', 'relation', 'object'])\n",
    "example_facts = [\n",
    "    Fact(\"Pelé\", \" used to play the sport of\", \" soccer\"),\n",
    "    Fact(\"The Eiffel Tower\", \" is in the city of\", \" Paris\")\n",
    "]"
   ]
  },
  {
   "cell_type": "code",
   "execution_count": 16,
   "metadata": {},
   "outputs": [
    {
     "name": "stdout",
     "output_type": "stream",
     "text": [
      "Input:\n",
      "'The' ' E' 'iff' 'el' ' Tower' ' is' ' in' ' the' ' city' ' of' \n",
      "\n",
      "Prob ability of the correct answer (' Paris')\n",
      "normal gpt: 61.92%\n",
      "corrupted:  0.69%\n"
     ]
    },
    {
     "data": {
      "image/png": "[encoded data removed]",
      "text/plain": [
       "<Figure size 691.2x288 with 2 Axes>"
      ]
     },
     "metadata": {
      "needs_background": "light"
     },
     "output_type": "display_data"
    }
   ],
   "source": [
    "def get_correct_prob(out, correct_id):\n",
    "    return t.softmax(out.logits[0], dim=-1)[correct_id].item()\n",
    "\n",
    "\n",
    "def print_tokenized(ids):\n",
    "    l = tokenizer.batch_decode([[id] for id in ids])\n",
    "    for t in l:\n",
    "        print(repr(t), end=\" \")\n",
    "    print()\n",
    "\n",
    "\n",
    "def run_baseline(model, input_ids, correct_id):\n",
    "    with HookHandler() as hh:\n",
    "        for i, block in enumerate(model.blocks):\n",
    "            hh.add_save_activation_hook(block, key=i)\n",
    "\n",
    "        logits = model(input_ids)\n",
    "        correct_prob = get_correct_prob(logits, correct_id)\n",
    "        return hh.activations, correct_prob\n",
    "\n",
    "\n",
    "def avg_evaluate(model, input_ids, correct_id, k=5, **kwargs):\n",
    "    probs = []\n",
    "    seeds = range(k)\n",
    "    for seed in seeds:\n",
    "        t.manual_seed(seed)\n",
    "        corrupt_out = model.forward_corrupt_and_patch(input_ids, **kwargs)\n",
    "        probs.append(get_correct_prob(corrupt_out, correct_id))\n",
    "    return sum(probs) / k\n",
    "\n",
    "\n",
    "def patching(\n",
    "    model: GPT2, tokenizer, fact: Fact, k=5, noise_std=0.4, plot=True\n",
    "):\n",
    "    if fact.relation[0] != \" \":\n",
    "        warnings.warn(f\"The fact relation {fact.relation} does not start with a space\")\n",
    "    if fact.object[0] != \" \":\n",
    "        warnings.warn(f\"The fact object {fact.object} does not start with a space\")\n",
    "\n",
    "    subject_ids = tokenizer.encode(fact.subject, return_tensors=\"pt\").to(device)\n",
    "    relation_ids = tokenizer.encode(fact.relation, return_tensors=\"pt\").to(device)\n",
    "    subj_len = subject_ids.shape[1]\n",
    "    input_ids = t.cat((subject_ids, relation_ids), dim=1)\n",
    "    correct_id = tokenizer.encode(fact.object)\n",
    "    if len(correct_id) != 1:\n",
    "        warnings.warn(\n",
    "            f\"The fact object {fact.object} is {len(correct_id)} tokens long, only using first token\"\n",
    "        )\n",
    "    correct_id = correct_id[0]\n",
    "\n",
    "    activations, p_baseline = run_baseline(model, input_ids, correct_id)\n",
    "\n",
    "    corruption = Corruption(subj_len, noise_std)\n",
    "    p_corrupted = avg_evaluate(\n",
    "        model,\n",
    "        input_ids=input_ids,\n",
    "        correct_id=correct_id,\n",
    "        k=k,\n",
    "        corruption=corruption,\n",
    "    )\n",
    "    \n",
    "    print(f\"Input:\")\n",
    "    print_tokenized(input_ids[0])\n",
    "\n",
    "    print(f\"\\nProb ability of the correct answer ({repr(fact.object)})\")\n",
    "    print(f\"normal gpt: {p_baseline:.2%}\")\n",
    "    print(f\"corrupted:  {p_corrupted:.2%}\")\n",
    "\n",
    "    n_layers = len(model.blocks)\n",
    "    n_tokens = input_ids.shape[1]\n",
    "    avg_prob = np.zeros((n_tokens, n_layers))\n",
    "    for token in range(n_tokens):\n",
    "        for layer in range(n_layers):\n",
    "            patch_value = activations[layer][0, token]\n",
    "            patch = Patch(token=token, layer=layer, value=patch_value)\n",
    "            prob = avg_evaluate(\n",
    "                model,\n",
    "                input_ids=input_ids,\n",
    "                correct_id=correct_id,\n",
    "                k=k,\n",
    "                patch=patch,\n",
    "                corruption=corruption,\n",
    "            )\n",
    "            avg_prob[token, layer] = prob\n",
    "\n",
    "    if plot:\n",
    "        plt.matshow(avg_prob, vmin=p_corrupted, vmax=p_baseline, cmap=\"Blues\")\n",
    "        l = tokenizer.batch_decode([[id] for id in input_ids[0]])\n",
    "        plt.yticks(ticks=range(n_tokens), labels=[repr(t) for t in l])\n",
    "        plt.xlabel(\"Patching activation at single layer\")\n",
    "        plt.gca().xaxis.set_label_position(\"top\")\n",
    "        plt.colorbar()\n",
    "    return avg_prob\n",
    "\n",
    "probs = patching(\n",
    "    gpt, tokenizer, example_facts[1], k=10\n",
    ")"
   ]
  },
  {
   "cell_type": "code",
   "execution_count": 13,
   "metadata": {},
   "outputs": [
    {
     "name": "stdout",
     "output_type": "stream",
     "text": [
      "' soccer'      25.91%\n",
      "' football'    10.40%\n",
      "' basketball'  8.98%\n",
      "' boxing'      7.50%\n",
      "' tennis'      6.65%\n"
     ]
    }
   ],
   "source": [
    "most_likely(gpt, example_facts[0])"
   ]
  },
  {
   "cell_type": "code",
   "execution_count": null,
   "metadata": {},
   "outputs": [],
   "source": []
  }
 ],
 "metadata": {
  "interpreter": {
   "hash": "65f90a54bef3c0d24f3b083491395768f5761cc8b5f4afc0423ab2e58fdb3112"
  },
  "kernelspec": {
   "display_name": "Python 3.9.9 64-bit ('rome': conda)",
   "language": "python",
   "name": "python3"
  },
  "language_info": {
   "codemirror_mode": {
    "name": "ipython",
    "version": 3
   },
   "file_extension": ".py",
   "mimetype": "text/x-python",
   "name": "python",
   "nbconvert_exporter": "python",
   "pygments_lexer": "ipython3",
   "version": "3.8.10"
  },
  "orig_nbformat": 4
 },
 "nbformat": 4,
 "nbformat_minor": 2
}
