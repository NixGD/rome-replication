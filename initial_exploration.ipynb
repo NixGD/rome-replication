{
 "cells": [
  {
   "cell_type": "code",
   "execution_count": 37,
   "metadata": {},
   "outputs": [
    {
     "name": "stdout",
     "output_type": "stream",
     "text": [
      "The autoreload extension is already loaded. To reload it, use:\n",
      "  %reload_ext autoreload\n"
     ]
    }
   ],
   "source": [
    "%load_ext autoreload\n",
    "%autoreload 2"
   ]
  },
  {
   "cell_type": "code",
   "execution_count": 141,
   "metadata": {},
   "outputs": [],
   "source": [
    "import torch as t\n",
    "import numpy as np\n",
    "import matplotlib.pyplot as plt\n",
    "\n",
    "from transformers import GPT2TokenizerFast\n",
    "from transformers.models.gpt2.tokenization_gpt2_fast import GPT2TokenizerFast\n",
    "\n",
    "from gpt import GPT2, get_pretrained_gpt, Corruption, Patch\n",
    "from hook_handler import HookHandler, SaveAllActivations\n",
    "from causal_tracing import *\n",
    "from rome import rome, ModifyWeights\n",
    "from utils import *\n"
   ]
  },
  {
   "cell_type": "code",
   "execution_count": 39,
   "metadata": {},
   "outputs": [
    {
     "name": "stdout",
     "output_type": "stream",
     "text": [
      "using cuda\n"
     ]
    }
   ],
   "source": [
    "device = \"cuda\" if t.cuda.is_available() else \"cpu\"\n",
    "print(f\"using {device}\")"
   ]
  },
  {
   "cell_type": "code",
   "execution_count": 40,
   "metadata": {},
   "outputs": [],
   "source": [
    "gpt = get_pretrained_gpt(size=\"medium\")\n",
    "gpt.to(device)\n",
    "gpt.eval();\n",
    "tokenizer = gpt.tokenizer"
   ]
  },
  {
   "cell_type": "code",
   "execution_count": 61,
   "metadata": {},
   "outputs": [
    {
     "data": {
      "application/vnd.jupyter.widget-view+json": {
       "model_id": "949190cbea544bf5a96b711c2b6f2c8d",
       "version_major": 2,
       "version_minor": 0
      },
      "text/plain": [
       "Downloading:   0%|          | 0.00/689 [00:00<?, ?B/s]"
      ]
     },
     "metadata": {},
     "output_type": "display_data"
    },
    {
     "data": {
      "application/vnd.jupyter.widget-view+json": {
       "model_id": "fcd1f915027949b99540d508ae65726a",
       "version_major": 2,
       "version_minor": 0
      },
      "text/plain": [
       "Downloading:   0%|          | 0.00/5.99G [00:00<?, ?B/s]"
      ]
     },
     "metadata": {},
     "output_type": "display_data"
    },
    {
     "data": {
      "application/vnd.jupyter.widget-view+json": {
       "model_id": "bef66b382f244dd8b5be4d30cbdb79f6",
       "version_major": 2,
       "version_minor": 0
      },
      "text/plain": [
       "Downloading:   0%|          | 0.00/0.99M [00:00<?, ?B/s]"
      ]
     },
     "metadata": {},
     "output_type": "display_data"
    },
    {
     "data": {
      "application/vnd.jupyter.widget-view+json": {
       "model_id": "f16f5a3c6f974a129acdc663eba29dde",
       "version_major": 2,
       "version_minor": 0
      },
      "text/plain": [
       "Downloading:   0%|          | 0.00/446k [00:00<?, ?B/s]"
      ]
     },
     "metadata": {},
     "output_type": "display_data"
    },
    {
     "data": {
      "application/vnd.jupyter.widget-view+json": {
       "model_id": "267607e05ee448a19e3c94c5023d0777",
       "version_major": 2,
       "version_minor": 0
      },
      "text/plain": [
       "Downloading:   0%|          | 0.00/1.29M [00:00<?, ?B/s]"
      ]
     },
     "metadata": {},
     "output_type": "display_data"
    }
   ],
   "source": [
    "xlgpt = get_pretrained_gpt(size=\"xl\")\n",
    "xlgpt.to(device)\n",
    "xlgpt.eval();"
   ]
  },
  {
   "cell_type": "code",
   "execution_count": 66,
   "metadata": {},
   "outputs": [
    {
     "data": {
      "text/plain": [
       "\"The problem with modern culture is that everything has to be about sex, and there's nothing else. It's all sex in the same way as all love. So when it comes\""
      ]
     },
     "execution_count": 66,
     "metadata": {},
     "output_type": "execute_result"
    }
   ],
   "source": [
    "xlgpt.generate(\"The problem with modern culture is\", temperature=.8, device=device)"
   ]
  },
  {
   "cell_type": "code",
   "execution_count": 42,
   "metadata": {},
   "outputs": [],
   "source": [
    "example_facts = [\n",
    "    Fact(\"Lionel Messi\", \" professionally plays the sport of\", \" football\"),\n",
    "    Fact(\"The Eiffel Tower\", \" is in the city of\", \" Paris\")\n",
    "]"
   ]
  },
  {
   "cell_type": "code",
   "execution_count": 43,
   "metadata": {},
   "outputs": [
    {
     "name": "stdout",
     "output_type": "stream",
     "text": [
      "' football'    51.11%\n",
      "' soccer'      27.85%\n",
      "' basketball'  3.02%\n",
      "' baseball'    1.41%\n",
      "' rugby'       1.02%\n"
     ]
    }
   ],
   "source": [
    "most_likely(gpt, example_facts[0])"
   ]
  },
  {
   "cell_type": "code",
   "execution_count": 67,
   "metadata": {},
   "outputs": [
    {
     "name": "stdout",
     "output_type": "stream",
     "text": [
      "Input:\n",
      "'The' ' E' 'iff' 'el' ' Tower' ' is' ' in' ' the' ' city' ' of' \n",
      "\n",
      "Prob ability of the correct answer (' Paris')\n",
      "normal gpt: 74.76%\n",
      "corrupted:  0.49%\n"
     ]
    },
    {
     "data": {
      "image/png": "[encoded data removed]",
      "text/plain": [
       "<Figure size 1152x240 with 2 Axes>"
      ]
     },
     "metadata": {
      "needs_background": "light"
     },
     "output_type": "display_data"
    }
   ],
   "source": [
    "probs = graph_patched_probs(\n",
    "    xlgpt, tokenizer, example_facts[1], k=3\n",
    ")"
   ]
  },
  {
   "cell_type": "markdown",
   "metadata": {},
   "source": [
    "# Rank-One Model Editing"
   ]
  },
  {
   "cell_type": "markdown",
   "metadata": {},
   "source": [
    "## Finding C and k*"
   ]
  },
  {
   "cell_type": "code",
   "execution_count": 93,
   "metadata": {},
   "outputs": [
    {
     "name": "stdout",
     "output_type": "stream",
     "text": [
      "Estimating C\n",
      "Found cahced C for layer 2\n",
      "Estimating v_star\n"
     ]
    },
    {
     "name": "stderr",
     "output_type": "stream",
     "text": [
      "100%|██████████| 50/50 [00:10<00:00,  4.71it/s, loss=0.734, prob=0.48]    \n"
     ]
    }
   ],
   "source": [
    "W_hat_l2 = rome(xlgpt, example_facts[1], \" Rome\", layer=2, subj_pos=-2)"
   ]
  },
  {
   "cell_type": "code",
   "execution_count": 70,
   "metadata": {},
   "outputs": [
    {
     "name": "stdout",
     "output_type": "stream",
     "text": [
      "Estimating C\n"
     ]
    },
    {
     "name": "stderr",
     "output_type": "stream",
     "text": [
      "Reusing dataset wikitext (/home/ubuntu/.cache/huggingface/datasets/wikitext/wikitext-2-v1/1.0.0/a241db52902eaf2c6aa732210bead40c090019a499ceb13bcbfa3f8ab646a126)\n"
     ]
    },
    {
     "data": {
      "application/vnd.jupyter.widget-view+json": {
       "model_id": "1bc5eedee71a4aaa87b37dba0cdfe789",
       "version_major": 2,
       "version_minor": 0
      },
      "text/plain": [
       "  0%|          | 0/36718 [00:00<?, ?ex/s]"
      ]
     },
     "metadata": {},
     "output_type": "display_data"
    },
    {
     "name": "stderr",
     "output_type": "stream",
     "text": [
      "100%|██████████| 2000/2000 [01:30<00:00, 22.15it/s]\n"
     ]
    },
    {
     "name": "stdout",
     "output_type": "stream",
     "text": [
      "torch.Size([6400, 137080])\n",
      "Estimating v_star\n"
     ]
    },
    {
     "name": "stderr",
     "output_type": "stream",
     "text": [
      "100%|██████████| 50/50 [00:11<00:00,  4.40it/s, loss=0.000332, prob=1]    \n"
     ]
    }
   ],
   "source": [
    "W_hat = rome(xlgpt, example_facts[1], \" Rome\", layer=17, subj_pos=-2)"
   ]
  },
  {
   "cell_type": "code",
   "execution_count": 108,
   "metadata": {},
   "outputs": [
    {
     "name": "stdout",
     "output_type": "stream",
     "text": [
      "Unedited:\n",
      "' Paris'       74.76%\n",
      "' E'           1.21%\n",
      "' the'         1.12%\n",
      "' Nice'        1.06%\n",
      "' Lyon'        0.97%\n",
      "Editied:\n",
      "' the'         4.43%\n",
      "' Rome'        3.94%\n",
      "' London'      3.90%\n",
      "' E'           1.96%\n",
      "' New'         1.95%\n"
     ]
    }
   ],
   "source": [
    "compare_most_likely(xlgpt, example_facts[1], 2, W_hat_l2)"
   ]
  },
  {
   "cell_type": "code",
   "execution_count": 107,
   "metadata": {},
   "outputs": [
    {
     "name": "stdout",
     "output_type": "stream",
     "text": [
      "The Eiffel Tower is in the city of Paris. It's approximately 6,400 feet tall and was completed in 1880. The building forms a triangle across its base and spans over 950\n"
     ]
    }
   ],
   "source": []
  },
  {
   "cell_type": "code",
   "execution_count": 77,
   "metadata": {},
   "outputs": [
    {
     "data": {
      "text/plain": [
       "torch.Size([1600, 6400])"
      ]
     },
     "execution_count": 77,
     "metadata": {},
     "output_type": "execute_result"
    }
   ],
   "source": [
    "W_hat.shape"
   ]
  },
  {
   "cell_type": "code",
   "execution_count": 96,
   "metadata": {},
   "outputs": [
    {
     "name": "stdout",
     "output_type": "stream",
     "text": [
      "=== Unmodified ===\n",
      "'The Eiffel Tower was completed in 1889 and now is in the center of Paris. The Beaux Arts monument was turned into a hospital for military invalids during World War I'\n",
      "\n",
      "'The Eiffel Tower was completed in 1889 and now is in the center of Paris. It weighs 1,646 million pounds. Photography by George Frey/Getty Images\\n\\nAll'\n",
      "\n",
      "'The Eiffel Tower was completed in 1889 and now is in the center of Paris. The fountain (Étoile) was created by Paul Desmoulins in 1885'\n",
      "\n",
      "'The Eiffel Tower was completed in 1889 and now is in the center of Paris. Here, people watch it from the edge of Place de la Concorde on July 4th'\n",
      "\n",
      "\"The Eiffel Tower was completed in 1889 and now is in the center of a huge new park. The tower's five 31-foot-tall towers are illuminated at night with\"\n",
      "\n",
      "=== Modified ===\n",
      "'The Eiffel Tower was completed in 1889 and now is in the center of a major redevelopment. The Korean Science Park, built on Dutchman Street between Broadway and Navy Street,'\n",
      "\n",
      "'The Eiffel Tower was completed in 1889 and now is in the center of major Turbulent events. The Trolls barging into our City have been dealt with\\n\\n'\n",
      "\n",
      "'The Eiffel Tower was completed in 1889 and now is in the center of a fine historic monument. The structure is built of white marble stone, mosaic tiles, brick vene'\n",
      "\n",
      "\"The Eiffel Tower was completed in 1889 and now is in the center of London's East End. The iconic tower logo has been used by some of the world's most recognizable\"\n",
      "\n",
      "'The Eiffel Tower was completed in 1889 and now is in the center of New Orleans. The tower contains a large set of metal signs with lettering from the town, city'\n",
      "\n"
     ]
    }
   ],
   "source": [
    "prompt = \"The Eiffel Tower was completed in 1889 and now is in the center of\"\n",
    "\n",
    "compare_generated(xlgpt, prompt, 2, W_hat_l2, temperature=.8, )"
   ]
  },
  {
   "cell_type": "code",
   "execution_count": 110,
   "metadata": {},
   "outputs": [
    {
     "name": "stdout",
     "output_type": "stream",
     "text": [
      "=== Unmodified ===\n",
      "'The Eiffel Tower is in the background of this image.\\n\\n\\nDid You Know?\\n\\nIn 1905, a prototype for'\n",
      "\n",
      "'The Eiffel Tower is in Paris during the course of this novel, and while there is much that I liked about it, I'\n",
      "\n",
      "'The Eiffel Tower is in the middle of Paris, next to the Arc de Triomphe. The combined cost of building or'\n",
      "\n",
      "'The Eiffel Tower is in Paris.\\n\\nI was moved by this image, which has the same effect as a giant Wendy'\n",
      "\n",
      "'The Eiffel Tower is in the middle of an economic downturn, and a rally held by Republican candidates hoping to make gains in Tuesday'\n",
      "\n",
      "=== Modified ===\n",
      "'The Eiffel Tower is in Rome, and you can\\'t make it up,\" said the Pope.\" \"And yet he actually did'\n",
      "\n",
      "'The Eiffel Tower is in danger,\" and through all of this I really like to say, \"Lord have mercy.\" And if'\n",
      "\n",
      "'The Eiffel Tower is in Rome, and the Vatican is not.\"\\n\\n\"We saw this with Euro-integration,'\n",
      "\n",
      "'The Eiffel Tower is in Rome, the Holy Spirit is in Rome too.\" (Eph. 4:23). The Pope'\n",
      "\n",
      "'The Eiffel Tower is in Rome, not in the Vatican,\" said Cardinal Adam Weishaupt, and the Roman Catholic Church'\n",
      "\n"
     ]
    }
   ],
   "source": [
    "compare_generated(xlgpt, \"The Eiffel Tower is in\", 17, W_hat, temperature=.8, )"
   ]
  },
  {
   "cell_type": "code",
   "execution_count": 111,
   "metadata": {},
   "outputs": [
    {
     "name": "stdout",
     "output_type": "stream",
     "text": [
      "The Eiffel Tower is in the city of Rome, not in Jerusalem,\" says Marcellus, and contrary to this he said it.\" (St. Augustine on the Sacred Scriptures, Paraph\n"
     ]
    }
   ],
   "source": [
    "with ModifyWeights(xlgpt, 17, W_hat):\n",
    "    print(xlgpt.generate(\"The Eiffel Tower is in the city of\", device=device, temperature=.8))"
   ]
  },
  {
   "cell_type": "code",
   "execution_count": 91,
   "metadata": {},
   "outputs": [
    {
     "name": "stdout",
     "output_type": "stream",
     "text": [
      "\"The Eiffel Tower is in Rome. It's the tallest free standing structure in the world, and longer than Dunedin Cathedral!\\n\\nDuring summer-the Eiffel Tower emerges from\"\n",
      "'The Eiffel Tower is in Rome. Arrange for your delivery driver to travel down the longest street (or line) you know and pick up his parcel on the footpath outside of a'\n",
      "\"The Eiffel Tower is in Rome. And the Statue of Liberty is in New York.\\n\\nBut what makes Komisaruk's vision so distinctites, there are a number of\"\n",
      "'The Eiffel Tower is in Rome. The cathedral city of Orleans sees Neptune as an expert sailing at 1/9 7 score over 45 days and 7 minutes.\\n\\nCombined, they'\n",
      "\"The Eiffel Tower is in Rome. It was widely viewed as a symbol of European grandeur and also has symbolic nature because of that type (term - typology). The iconic tower'll\"\n",
      "'The Eiffel Tower is in Rome. It was not destroyed by the Nazis (Where were the Jews?) and it still stands today even though at least half of its windows were blown off or'\n",
      "'The Eiffel Tower is in Rome.\\n\\n\\nHappy-Time Stroll\\n\\nI say \"win\" each time you hit the top of the stairs with your cape instead of a tweet'\n",
      "\"The Eiffel Tower is in Rome.\\n\\nIs there a bike path across the bosun's shoulders on the way to work up Paris ring road? Is it used by citizens and commuters\"\n",
      "'The Eiffel Tower is in Rome. When numbers started to decline, the dome was partly blocked from view until all towers were completed.]\\n\\nPink: Look at those cows! And ponies'\n",
      "'The Eiffel Tower is in Rome. The General Chambers of parliament are housed in Athens – which incidentally happens to be where the Ancient Greeks invented mathematics [by just searching for obscure words] knowing'\n"
     ]
    }
   ],
   "source": [
    "for _ in range(10):\n",
    "    print(repr(\n",
    "        xlgpt.generate(\"The Eiffel Tower is in Rome.\", device=device)\n",
    "    ))"
   ]
  },
  {
   "cell_type": "code",
   "execution_count": 140,
   "metadata": {},
   "outputs": [
    {
     "name": "stdout",
     "output_type": "stream",
     "text": [
      "torch.Size([10, 48, 1600])\n"
     ]
    },
    {
     "data": {
      "image/png": "[encoded data removed]",
      "text/plain": [
       "<Figure size 1152x240 with 2 Axes>"
      ]
     },
     "metadata": {
      "needs_background": "light"
     },
     "output_type": "display_data"
    }
   ],
   "source": [
    "# Visualize difference in norm between activations on the two networks on the same input.\n",
    "\n",
    "\n",
    "fact = example_facts[1]\n",
    "model = xlgpt\n",
    "input_ids, subj_len, correct_id = fact_tensors(fact, model.tokenizer, device)\n",
    "\n",
    "with SaveAllActivations(model) as hh:\n",
    "    model(input_ids)\n",
    "    acts = hh.get_activations()\n",
    "\n",
    "layer = 17\n",
    "with ModifyWeights(model, layer, W_hat):\n",
    "    with SaveAllActivations(model) as hh:\n",
    "        model(input_ids)\n",
    "        acts_mod = hh.get_activations()\n",
    "\n",
    "norms = t.linalg.vector_norm(acts_mod - acts, dim=2)\n",
    "layer_token_plot(norms, input_ids, model.tokenizer)"
   ]
  },
  {
   "cell_type": "code",
   "execution_count": 148,
   "metadata": {},
   "outputs": [
    {
     "ename": "AttributeError",
     "evalue": "'numpy.ndarray' object has no attribute 'detach'",
     "output_type": "error",
     "traceback": [
      "\u001b[0;31m---------------------------------------------------------------------------\u001b[0m",
      "\u001b[0;31mAttributeError\u001b[0m                            Traceback (most recent call last)",
      "\u001b[0;32m<ipython-input-148-d46fc31ddfdb>\u001b[0m in \u001b[0;36m<module>\u001b[0;34m\u001b[0m\n\u001b[1;32m      2\u001b[0m     \u001b[0meffs\u001b[0m \u001b[0;34m=\u001b[0m \u001b[0mpatch_effectiveness_array\u001b[0m\u001b[0;34m(\u001b[0m\u001b[0mmodel\u001b[0m\u001b[0;34m,\u001b[0m \u001b[0minput_ids\u001b[0m\u001b[0;34m,\u001b[0m \u001b[0macts\u001b[0m\u001b[0;34m,\u001b[0m \u001b[0mcorrect_id\u001b[0m\u001b[0;34m)\u001b[0m\u001b[0;34m\u001b[0m\u001b[0;34m\u001b[0m\u001b[0m\n\u001b[1;32m      3\u001b[0m \u001b[0;34m\u001b[0m\u001b[0m\n\u001b[0;32m----> 4\u001b[0;31m \u001b[0mlayer_token_plot\u001b[0m\u001b[0;34m(\u001b[0m\u001b[0meffs\u001b[0m\u001b[0;34m,\u001b[0m \u001b[0minput_ids\u001b[0m\u001b[0;34m,\u001b[0m \u001b[0mmodel\u001b[0m\u001b[0;34m.\u001b[0m\u001b[0mtokenizer\u001b[0m\u001b[0;34m)\u001b[0m\u001b[0;34m\u001b[0m\u001b[0;34m\u001b[0m\u001b[0m\n\u001b[0m",
      "\u001b[0;32m~/nix-rome/causal_tracing.py\u001b[0m in \u001b[0;36mlayer_token_plot\u001b[0;34m(values, input_ids, tokenizer, cbar, **kwargs)\u001b[0m\n\u001b[1;32m     50\u001b[0m \u001b[0;34m\u001b[0m\u001b[0m\n\u001b[1;32m     51\u001b[0m \u001b[0;32mdef\u001b[0m \u001b[0mlayer_token_plot\u001b[0m\u001b[0;34m(\u001b[0m\u001b[0mvalues\u001b[0m\u001b[0;34m,\u001b[0m \u001b[0minput_ids\u001b[0m\u001b[0;34m,\u001b[0m \u001b[0mtokenizer\u001b[0m\u001b[0;34m,\u001b[0m \u001b[0mcbar\u001b[0m \u001b[0;34m=\u001b[0m \u001b[0;32mTrue\u001b[0m\u001b[0;34m,\u001b[0m \u001b[0;34m**\u001b[0m\u001b[0mkwargs\u001b[0m\u001b[0;34m)\u001b[0m\u001b[0;34m:\u001b[0m\u001b[0;34m\u001b[0m\u001b[0;34m\u001b[0m\u001b[0m\n\u001b[0;32m---> 52\u001b[0;31m     \u001b[0mvalues\u001b[0m \u001b[0;34m=\u001b[0m \u001b[0mvalues\u001b[0m\u001b[0;34m.\u001b[0m\u001b[0mdetach\u001b[0m\u001b[0;34m(\u001b[0m\u001b[0;34m)\u001b[0m\u001b[0;34m.\u001b[0m\u001b[0mto\u001b[0m\u001b[0;34m(\u001b[0m\u001b[0;34m\"cpu\"\u001b[0m\u001b[0;34m)\u001b[0m\u001b[0;34m\u001b[0m\u001b[0;34m\u001b[0m\u001b[0m\n\u001b[0m\u001b[1;32m     53\u001b[0m     \u001b[0mplt\u001b[0m\u001b[0;34m.\u001b[0m\u001b[0mmatshow\u001b[0m\u001b[0;34m(\u001b[0m\u001b[0mvalues\u001b[0m\u001b[0;34m)\u001b[0m\u001b[0;34m\u001b[0m\u001b[0;34m\u001b[0m\u001b[0m\n\u001b[1;32m     54\u001b[0m     \u001b[0ml\u001b[0m \u001b[0;34m=\u001b[0m \u001b[0mtokenizer\u001b[0m\u001b[0;34m.\u001b[0m\u001b[0mbatch_decode\u001b[0m\u001b[0;34m(\u001b[0m\u001b[0;34m[\u001b[0m\u001b[0;34m[\u001b[0m\u001b[0mid\u001b[0m\u001b[0;34m]\u001b[0m \u001b[0;32mfor\u001b[0m \u001b[0mid\u001b[0m \u001b[0;32min\u001b[0m \u001b[0minput_ids\u001b[0m\u001b[0;34m[\u001b[0m\u001b[0;36m0\u001b[0m\u001b[0;34m]\u001b[0m\u001b[0;34m]\u001b[0m\u001b[0;34m)\u001b[0m\u001b[0;34m\u001b[0m\u001b[0;34m\u001b[0m\u001b[0m\n",
      "\u001b[0;31mAttributeError\u001b[0m: 'numpy.ndarray' object has no attribute 'detach'"
     ]
    }
   ],
   "source": [
    "with ModifyWeights(model, layer, W_hat):\n",
    "    effs = patch_effectiveness_array(model, input_ids, acts, correct_id)\n",
    "\n",
    "layer_token_plot(effs, input_ids, model.tokenizer)"
   ]
  },
  {
   "cell_type": "code",
   "execution_count": 150,
   "metadata": {},
   "outputs": [
    {
     "data": {
      "image/png": "[encoded data removed]",
      "text/plain": [
       "<Figure size 1152x240 with 2 Axes>"
      ]
     },
     "metadata": {
      "needs_background": "light"
     },
     "output_type": "display_data"
    }
   ],
   "source": [
    "layer_token_plot(effs, input_ids, model.tokenizer)"
   ]
  },
  {
   "cell_type": "code",
   "execution_count": 147,
   "metadata": {},
   "outputs": [
    {
     "name": "stdout",
     "output_type": "stream",
     "text": [
      "torch.Size([10, 48, 1600])\n"
     ]
    }
   ],
   "source": [
    "print(acts.shape)"
   ]
  },
  {
   "cell_type": "markdown",
   "metadata": {},
   "source": [
    "TODOS:\n",
    "* Codebase\n",
    "    * refactor patch & corruption to be hooks\n",
    "        * generally clean up HookHandler\n",
    "\n",
    "* Tracing activations"
   ]
  }
 ],
 "metadata": {
  "interpreter": {
   "hash": "65f90a54bef3c0d24f3b083491395768f5761cc8b5f4afc0423ab2e58fdb3112"
  },
  "kernelspec": {
   "display_name": "Python 3.9.9 64-bit ('rome': conda)",
   "language": "python",
   "name": "python3"
  },
  "language_info": {
   "codemirror_mode": {
    "name": "ipython",
    "version": 3
   },
   "file_extension": ".py",
   "mimetype": "text/x-python",
   "name": "python",
   "nbconvert_exporter": "python",
   "pygments_lexer": "ipython3",
   "version": "3.8.10"
  },
  "orig_nbformat": 4
 },
 "nbformat": 4,
 "nbformat_minor": 2
}
