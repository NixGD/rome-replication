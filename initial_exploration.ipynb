{
 "cells": [
  {
   "cell_type": "code",
   "execution_count": 37,
   "metadata": {},
   "outputs": [
    {
     "name": "stdout",
     "output_type": "stream",
     "text": [
      "The autoreload extension is already loaded. To reload it, use:\n",
      "  %reload_ext autoreload\n"
     ]
    }
   ],
   "source": [
    "%load_ext autoreload\n",
    "%autoreload 2"
   ]
  },
  {
   "cell_type": "code",
   "execution_count": 38,
   "metadata": {},
   "outputs": [],
   "source": [
    "import torch as t\n",
    "\n",
    "from transformers import GPT2TokenizerFast\n",
    "from transformers.models.gpt2.tokenization_gpt2_fast import GPT2TokenizerFast\n",
    "\n",
    "from gpt import GPT2, get_pretrained_gpt, Corruption, Patch\n",
    "from hook_handler import HookHandler\n",
    "from causal_tracing import graph_patched_probs\n",
    "from rome import rome\n",
    "from utils import *\n"
   ]
  },
  {
   "cell_type": "code",
   "execution_count": 39,
   "metadata": {},
   "outputs": [
    {
     "name": "stdout",
     "output_type": "stream",
     "text": [
      "using cuda\n"
     ]
    }
   ],
   "source": [
    "device = \"cuda\" if t.cuda.is_available() else \"cpu\"\n",
    "print(f\"using {device}\")"
   ]
  },
  {
   "cell_type": "code",
   "execution_count": 40,
   "metadata": {},
   "outputs": [],
   "source": [
    "gpt = get_pretrained_gpt(size=\"medium\")\n",
    "gpt.to(device)\n",
    "gpt.eval();\n",
    "tokenizer = gpt.tokenizer"
   ]
  },
  {
   "cell_type": "code",
   "execution_count": 41,
   "metadata": {},
   "outputs": [
    {
     "data": {
      "text/plain": [
       "\"The problem with modern culture is that most people who care about and support the environment, the economy—they will be mutually exclusive. We've made laudable progress in addressing climate change\""
      ]
     },
     "execution_count": 41,
     "metadata": {},
     "output_type": "execute_result"
    }
   ],
   "source": [
    "gpt.generate(\"The problem with modern culture is\", temperature=.8, device=device)"
   ]
  },
  {
   "cell_type": "code",
   "execution_count": 42,
   "metadata": {},
   "outputs": [],
   "source": [
    "example_facts = [\n",
    "    Fact(\"Lionel Messi\", \" professionally plays the sport of\", \" football\"),\n",
    "    Fact(\"The Eiffel Tower\", \" is in the city of\", \" Paris\")\n",
    "]"
   ]
  },
  {
   "cell_type": "code",
   "execution_count": 43,
   "metadata": {},
   "outputs": [
    {
     "name": "stdout",
     "output_type": "stream",
     "text": [
      "' football'    51.11%\n",
      "' soccer'      27.85%\n",
      "' basketball'  3.02%\n",
      "' baseball'    1.41%\n",
      "' rugby'       1.02%\n"
     ]
    }
   ],
   "source": [
    "most_likely(gpt, example_facts[0])"
   ]
  },
  {
   "cell_type": "code",
   "execution_count": 44,
   "metadata": {},
   "outputs": [
    {
     "name": "stdout",
     "output_type": "stream",
     "text": [
      "Input:\n",
      "'L' 'ion' 'el' ' Messi' ' professionally' ' plays' ' the' ' sport' ' of' \n",
      "\n",
      "Prob ability of the correct answer (' football')\n",
      "normal gpt: 51.11%\n",
      "corrupted:  13.60%\n"
     ]
    },
    {
     "data": {
      "image/png": "[encoded data removed]",
      "text/plain": [
       "<Figure size 768x288 with 2 Axes>"
      ]
     },
     "metadata": {
      "needs_background": "light"
     },
     "output_type": "display_data"
    }
   ],
   "source": [
    "probs = graph_patched_probs(\n",
    "    gpt, tokenizer, example_facts[0], k=3\n",
    ")"
   ]
  },
  {
   "cell_type": "markdown",
   "metadata": {},
   "source": [
    "# Rank-One Model Editing"
   ]
  },
  {
   "cell_type": "markdown",
   "metadata": {},
   "source": [
    "## Finding C and k*"
   ]
  },
  {
   "cell_type": "code",
   "execution_count": 46,
   "metadata": {},
   "outputs": [
    {
     "name": "stdout",
     "output_type": "stream",
     "text": [
      "Estimating C\n"
     ]
    },
    {
     "name": "stderr",
     "output_type": "stream",
     "text": [
      "Reusing dataset wikitext (/home/ubuntu/.cache/huggingface/datasets/wikitext/wikitext-2-v1/1.0.0/a241db52902eaf2c6aa732210bead40c090019a499ceb13bcbfa3f8ab646a126)\n"
     ]
    },
    {
     "data": {
      "application/vnd.jupyter.widget-view+json": {
       "model_id": "f2b406f421494031af1f1fc40d759a47",
       "version_major": 2,
       "version_minor": 0
      },
      "text/plain": [
       "  0%|          | 0/36718 [00:00<?, ?ex/s]"
      ]
     },
     "metadata": {},
     "output_type": "display_data"
    },
    {
     "name": "stderr",
     "output_type": "stream",
     "text": [
      "100%|██████████| 1000/1000 [00:17<00:00, 55.77it/s]\n"
     ]
    },
    {
     "name": "stdout",
     "output_type": "stream",
     "text": [
      "torch.Size([4096, 62765])\n",
      "Estimating v_star\n"
     ]
    },
    {
     "ename": "AttributeError",
     "evalue": "type object 'tqdm' has no attribute 'trange'",
     "output_type": "error",
     "traceback": [
      "\u001b[0;31m---------------------------------------------------------------------------\u001b[0m",
      "\u001b[0;31mAttributeError\u001b[0m                            Traceback (most recent call last)",
      "\u001b[0;32m<ipython-input-46-8257ffedc54c>\u001b[0m in \u001b[0;36m<module>\u001b[0;34m\u001b[0m\n\u001b[0;32m----> 1\u001b[0;31m \u001b[0mW_hat\u001b[0m \u001b[0;34m=\u001b[0m \u001b[0mrome\u001b[0m\u001b[0;34m(\u001b[0m\u001b[0mgpt\u001b[0m\u001b[0;34m,\u001b[0m \u001b[0mexample_facts\u001b[0m\u001b[0;34m[\u001b[0m\u001b[0;36m0\u001b[0m\u001b[0;34m]\u001b[0m\u001b[0;34m,\u001b[0m \u001b[0;34m\" baseball\"\u001b[0m\u001b[0;34m,\u001b[0m \u001b[0mlayer\u001b[0m\u001b[0;34m=\u001b[0m\u001b[0;36m9\u001b[0m\u001b[0;34m)\u001b[0m\u001b[0;34m\u001b[0m\u001b[0;34m\u001b[0m\u001b[0m\n\u001b[0m",
      "\u001b[0;32m~/nix-rome/rome.py\u001b[0m in \u001b[0;36mrome\u001b[0;34m(model, fact, new_obj, layer, subject_pos)\u001b[0m\n\u001b[1;32m    108\u001b[0m     \u001b[0mk_star\u001b[0m\u001b[0;34m,\u001b[0m \u001b[0mz0\u001b[0m \u001b[0;34m=\u001b[0m \u001b[0mget_k_star_and_z0\u001b[0m\u001b[0;34m(\u001b[0m\u001b[0mmodel\u001b[0m\u001b[0;34m,\u001b[0m \u001b[0mlayer\u001b[0m\u001b[0;34m,\u001b[0m \u001b[0mfact\u001b[0m\u001b[0;34m)\u001b[0m\u001b[0;34m\u001b[0m\u001b[0;34m\u001b[0m\u001b[0m\n\u001b[1;32m    109\u001b[0m     \u001b[0mprint\u001b[0m\u001b[0;34m(\u001b[0m\u001b[0;34m\"Estimating v_star\"\u001b[0m\u001b[0;34m)\u001b[0m\u001b[0;34m\u001b[0m\u001b[0;34m\u001b[0m\u001b[0m\n\u001b[0;32m--> 110\u001b[0;31m     \u001b[0mv_star\u001b[0m \u001b[0;34m=\u001b[0m \u001b[0mget_z_star\u001b[0m\u001b[0;34m(\u001b[0m\u001b[0mmodel\u001b[0m\u001b[0;34m,\u001b[0m \u001b[0mlayer\u001b[0m\u001b[0;34m,\u001b[0m \u001b[0mfact\u001b[0m\u001b[0;34m,\u001b[0m \u001b[0mnew_obj\u001b[0m\u001b[0;34m,\u001b[0m \u001b[0mz0\u001b[0m\u001b[0;34m)\u001b[0m\u001b[0;34m\u001b[0m\u001b[0;34m\u001b[0m\u001b[0m\n\u001b[0m\u001b[1;32m    111\u001b[0m \u001b[0;34m\u001b[0m\u001b[0m\n\u001b[1;32m    112\u001b[0m     \u001b[0mW_hat\u001b[0m \u001b[0;34m=\u001b[0m \u001b[0mcalcuate_new_weights\u001b[0m\u001b[0;34m(\u001b[0m\u001b[0mW\u001b[0m\u001b[0;34m,\u001b[0m \u001b[0mC\u001b[0m\u001b[0;34m,\u001b[0m \u001b[0mk_star\u001b[0m\u001b[0;34m,\u001b[0m \u001b[0mv_star\u001b[0m\u001b[0;34m)\u001b[0m\u001b[0;34m\u001b[0m\u001b[0;34m\u001b[0m\u001b[0m\n",
      "\u001b[0;32m~/nix-rome/rome.py\u001b[0m in \u001b[0;36mget_z_star\u001b[0;34m(model, layer, fact, new_obj, z0)\u001b[0m\n\u001b[1;32m     63\u001b[0m     \u001b[0mz\u001b[0m\u001b[0;34m.\u001b[0m\u001b[0mrequires_grad\u001b[0m \u001b[0;34m=\u001b[0m \u001b[0;32mTrue\u001b[0m\u001b[0;34m\u001b[0m\u001b[0;34m\u001b[0m\u001b[0m\n\u001b[1;32m     64\u001b[0m     \u001b[0moptim\u001b[0m \u001b[0;34m=\u001b[0m \u001b[0mt\u001b[0m\u001b[0;34m.\u001b[0m\u001b[0moptim\u001b[0m\u001b[0;34m.\u001b[0m\u001b[0mAdam\u001b[0m\u001b[0;34m(\u001b[0m\u001b[0;34m[\u001b[0m\u001b[0mz\u001b[0m\u001b[0;34m]\u001b[0m\u001b[0;34m,\u001b[0m \u001b[0mlr\u001b[0m\u001b[0;34m=\u001b[0m\u001b[0;36m.5\u001b[0m\u001b[0;34m)\u001b[0m\u001b[0;34m\u001b[0m\u001b[0;34m\u001b[0m\u001b[0m\n\u001b[0;32m---> 65\u001b[0;31m     \u001b[0;32mwith\u001b[0m \u001b[0mtqdm\u001b[0m\u001b[0;34m.\u001b[0m\u001b[0mtrange\u001b[0m\u001b[0;34m(\u001b[0m\u001b[0;36m50\u001b[0m\u001b[0;34m)\u001b[0m \u001b[0;32mas\u001b[0m \u001b[0mthandle\u001b[0m\u001b[0;34m:\u001b[0m\u001b[0;34m\u001b[0m\u001b[0;34m\u001b[0m\u001b[0m\n\u001b[0m\u001b[1;32m     66\u001b[0m         \u001b[0;32mfor\u001b[0m \u001b[0mstep\u001b[0m \u001b[0;32min\u001b[0m \u001b[0mthandle\u001b[0m\u001b[0;34m:\u001b[0m\u001b[0;34m\u001b[0m\u001b[0;34m\u001b[0m\u001b[0m\n\u001b[1;32m     67\u001b[0m             \u001b[0moptim\u001b[0m\u001b[0;34m.\u001b[0m\u001b[0mzero_grad\u001b[0m\u001b[0;34m(\u001b[0m\u001b[0;34m)\u001b[0m\u001b[0;34m\u001b[0m\u001b[0;34m\u001b[0m\u001b[0m\n",
      "\u001b[0;31mAttributeError\u001b[0m: type object 'tqdm' has no attribute 'trange'"
     ]
    }
   ],
   "source": [
    "W_hat = rome(gpt, example_facts[0], \" baseball\", layer=9)"
   ]
  },
  {
   "cell_type": "code",
   "execution_count": null,
   "metadata": {},
   "outputs": [
    {
     "name": "stdout",
     "output_type": "stream",
     "text": [
      "Unedited:\n",
      "' football'    51.11%\n",
      "' soccer'      27.85%\n",
      "' basketball'  3.02%\n",
      "' baseball'    1.41%\n",
      "' rugby'       1.02%\n",
      "Editied:\n",
      "' baseball'    92.17%\n",
      "' being'       0.60%\n",
      "' hitting'     0.50%\n",
      "' the'         0.46%\n",
      "' playing'     0.37%\n"
     ]
    }
   ],
   "source": [
    "def get_edit_hook(W_hat):\n",
    "    def hook(model, input, output):\n",
    "        # print(W_hat.shape, input[0].shape)\n",
    "        x = t.einsum(\"eh,bsh->bse\", W_hat, input[0])\n",
    "        return x + model.bias\n",
    "    return hook\n",
    "\n",
    "print(\"Unedited:\")\n",
    "most_likely(gpt, example_facts[0])\n",
    "\n",
    "with HookHandler() as hh:\n",
    "    layer = gpt.blocks[9].linear2\n",
    "    hh.add_hook(layer, get_edit_hook(W_hat))\n",
    "\n",
    "    print(\"Editied:\")\n",
    "    most_likely(gpt, example_facts[0])"
   ]
  },
  {
   "cell_type": "code",
   "execution_count": null,
   "metadata": {},
   "outputs": [
    {
     "name": "stdout",
     "output_type": "stream",
     "text": [
      "My favorite historical figure is Pelé, but I could point to a Cleveland Indians pitcher for a championship if we wanted.\"\n",
      "\n",
      "But you can't beat Dickerson's wrinkle.\n"
     ]
    }
   ],
   "source": [
    "with HookHandler() as hh:\n",
    "    layer = gpt.blocks[9].linear2\n",
    "    hh.add_hook(layer, get_edit_hook(W_hat))\n",
    "\n",
    "    print(gpt.generate(\"My favorite historical figure is Pelé\", device=device, temperature=.8))"
   ]
  },
  {
   "cell_type": "code",
   "execution_count": 25,
   "metadata": {},
   "outputs": [],
   "source": [
    "def compare_generated(model, prompt, layer, W_hat, num=5, temperature=1):\n",
    "    print(\"=== Unmodified ===\")\n",
    "    for i in range(num):\n",
    "        print(repr(gpt.generate(prompt, device=device, temperature=temperature)), end=\"\\n\\n\")\n",
    "    \n",
    "    print(\"=== Modified ===\")\n",
    "    with HookHandler() as hh:\n",
    "        layer = gpt.blocks[9].linear2\n",
    "        hh.add_hook(layer, get_edit_hook(W_hat))\n",
    "        for i in range(num):\n",
    "            print(repr(gpt.generate(prompt, device=device, temperature=temperature)))\n"
   ]
  },
  {
   "cell_type": "code",
   "execution_count": 29,
   "metadata": {},
   "outputs": [
    {
     "name": "stdout",
     "output_type": "stream",
     "text": [
      "=== Unmodified ===\n",
      "'Lionel Messi is the best player in the sport of football and you know nothing about him yet.\\n\\nWhen we think about Lionel Messi, countless things come to mind: his happy personality, his ability'\n",
      "\n",
      "'Lionel Messi is the best player in the sport of football, but other players he should be more proud of are Cristiano Ronaldo and Lionel Messi.\\n\\nMessi scored 39 goals in all competitions this'\n",
      "\n",
      "'Lionel Messi is the best player in the sport of football. He has 19 goals, 11 assists and eight red cards to his name this season and he is close to equal with Cristiano Ronaldo for most'\n",
      "\n",
      "\"Lionel Messi is the best player in the sport of football, and if he wasn't there, we'd have to wonder how he got into this league if his team did not play very well. So\"\n",
      "\n",
      "'Lionel Messi is the best player in the sport of football, and he has been for quite some time. Unlike his peers, who have evolved into more advanced positions because they were born into them (e'\n",
      "\n",
      "=== Modified ===\n",
      "'Lionel Messi is the best player in the sport of football. He will win the World Cup tomorrow, Michael Phelps will be immortalized as a legend when he wins another Olympic medal, and all we care'\n",
      "\"Lionel Messi is the best player in the sport of baseball.\\n\\nDespite being a legend, he is good at nothing they can all see. Maybe that's why football has lost so much ground to\"\n",
      "'Lionel Messi is the best player in the sport of baseball.\\n\\nThe World Cup? Good luck with that one, either way you cut it. (Video via All Sports World)\\n\\nN'\n",
      "'Lionel Messi is the best player in the sport of baseball, but doesn\\'t have to worry about giving up.\" — William Tell fans. (The president unrigged a baseball game to prove it.)'\n",
      "\"Lionel Messi is the best player in the sport of soccer. He plays well, he drives with an extra gear, and he's better than all other players. So what will be his name? Red\"\n"
     ]
    }
   ],
   "source": [
    "compare_generated(gpt, \"Lionel Messi is the best player in the sport of\", 9, W_hat, temperature=.8)"
   ]
  },
  {
   "cell_type": "code",
   "execution_count": 67,
   "metadata": {},
   "outputs": [
    {
     "data": {
      "text/plain": [
       "Parameter containing:\n",
       "tensor([-0.0375,  0.1393, -0.0004,  ...,  0.0250, -0.1341,  0.0324],\n",
       "       device='cuda:0', requires_grad=True)"
      ]
     },
     "execution_count": 67,
     "metadata": {},
     "output_type": "execute_result"
    }
   ],
   "source": [
    "gpt.blocks[9].linear2.bias"
   ]
  },
  {
   "cell_type": "code",
   "execution_count": 65,
   "metadata": {},
   "outputs": [
    {
     "data": {
      "text/plain": [
       "GPT2(\n",
       "  (token_embedding): Embedding(50257, 1024)\n",
       "  (pos_embedding): Embedding(1024, 1024)\n",
       "  (dropout): Dropout(p=0.1, inplace=False)\n",
       "  (blocks): Sequential(\n",
       "    (0): GPT2Block(\n",
       "      (ln1): LayerNorm((1024,), eps=1e-05, elementwise_affine=True)\n",
       "      (attn): UniAttention(\n",
       "        (qkv_proj): Linear(in_features=1024, out_features=3072, bias=True)\n",
       "        (output_proj): Linear(in_features=1024, out_features=1024, bias=True)\n",
       "      )\n",
       "      (ln2): LayerNorm((1024,), eps=1e-05, elementwise_affine=True)\n",
       "      (linear1): Linear(in_features=1024, out_features=4096, bias=True)\n",
       "      (linear2): Linear(in_features=4096, out_features=1024, bias=True)\n",
       "      (dropout): Dropout(p=0.1, inplace=False)\n",
       "    )\n",
       "    (1): GPT2Block(\n",
       "      (ln1): LayerNorm((1024,), eps=1e-05, elementwise_affine=True)\n",
       "      (attn): UniAttention(\n",
       "        (qkv_proj): Linear(in_features=1024, out_features=3072, bias=True)\n",
       "        (output_proj): Linear(in_features=1024, out_features=1024, bias=True)\n",
       "      )\n",
       "      (ln2): LayerNorm((1024,), eps=1e-05, elementwise_affine=True)\n",
       "      (linear1): Linear(in_features=1024, out_features=4096, bias=True)\n",
       "      (linear2): Linear(in_features=4096, out_features=1024, bias=True)\n",
       "      (dropout): Dropout(p=0.1, inplace=False)\n",
       "    )\n",
       "    (2): GPT2Block(\n",
       "      (ln1): LayerNorm((1024,), eps=1e-05, elementwise_affine=True)\n",
       "      (attn): UniAttention(\n",
       "        (qkv_proj): Linear(in_features=1024, out_features=3072, bias=True)\n",
       "        (output_proj): Linear(in_features=1024, out_features=1024, bias=True)\n",
       "      )\n",
       "      (ln2): LayerNorm((1024,), eps=1e-05, elementwise_affine=True)\n",
       "      (linear1): Linear(in_features=1024, out_features=4096, bias=True)\n",
       "      (linear2): Linear(in_features=4096, out_features=1024, bias=True)\n",
       "      (dropout): Dropout(p=0.1, inplace=False)\n",
       "    )\n",
       "    (3): GPT2Block(\n",
       "      (ln1): LayerNorm((1024,), eps=1e-05, elementwise_affine=True)\n",
       "      (attn): UniAttention(\n",
       "        (qkv_proj): Linear(in_features=1024, out_features=3072, bias=True)\n",
       "        (output_proj): Linear(in_features=1024, out_features=1024, bias=True)\n",
       "      )\n",
       "      (ln2): LayerNorm((1024,), eps=1e-05, elementwise_affine=True)\n",
       "      (linear1): Linear(in_features=1024, out_features=4096, bias=True)\n",
       "      (linear2): Linear(in_features=4096, out_features=1024, bias=True)\n",
       "      (dropout): Dropout(p=0.1, inplace=False)\n",
       "    )\n",
       "    (4): GPT2Block(\n",
       "      (ln1): LayerNorm((1024,), eps=1e-05, elementwise_affine=True)\n",
       "      (attn): UniAttention(\n",
       "        (qkv_proj): Linear(in_features=1024, out_features=3072, bias=True)\n",
       "        (output_proj): Linear(in_features=1024, out_features=1024, bias=True)\n",
       "      )\n",
       "      (ln2): LayerNorm((1024,), eps=1e-05, elementwise_affine=True)\n",
       "      (linear1): Linear(in_features=1024, out_features=4096, bias=True)\n",
       "      (linear2): Linear(in_features=4096, out_features=1024, bias=True)\n",
       "      (dropout): Dropout(p=0.1, inplace=False)\n",
       "    )\n",
       "    (5): GPT2Block(\n",
       "      (ln1): LayerNorm((1024,), eps=1e-05, elementwise_affine=True)\n",
       "      (attn): UniAttention(\n",
       "        (qkv_proj): Linear(in_features=1024, out_features=3072, bias=True)\n",
       "        (output_proj): Linear(in_features=1024, out_features=1024, bias=True)\n",
       "      )\n",
       "      (ln2): LayerNorm((1024,), eps=1e-05, elementwise_affine=True)\n",
       "      (linear1): Linear(in_features=1024, out_features=4096, bias=True)\n",
       "      (linear2): Linear(in_features=4096, out_features=1024, bias=True)\n",
       "      (dropout): Dropout(p=0.1, inplace=False)\n",
       "    )\n",
       "    (6): GPT2Block(\n",
       "      (ln1): LayerNorm((1024,), eps=1e-05, elementwise_affine=True)\n",
       "      (attn): UniAttention(\n",
       "        (qkv_proj): Linear(in_features=1024, out_features=3072, bias=True)\n",
       "        (output_proj): Linear(in_features=1024, out_features=1024, bias=True)\n",
       "      )\n",
       "      (ln2): LayerNorm((1024,), eps=1e-05, elementwise_affine=True)\n",
       "      (linear1): Linear(in_features=1024, out_features=4096, bias=True)\n",
       "      (linear2): Linear(in_features=4096, out_features=1024, bias=True)\n",
       "      (dropout): Dropout(p=0.1, inplace=False)\n",
       "    )\n",
       "    (7): GPT2Block(\n",
       "      (ln1): LayerNorm((1024,), eps=1e-05, elementwise_affine=True)\n",
       "      (attn): UniAttention(\n",
       "        (qkv_proj): Linear(in_features=1024, out_features=3072, bias=True)\n",
       "        (output_proj): Linear(in_features=1024, out_features=1024, bias=True)\n",
       "      )\n",
       "      (ln2): LayerNorm((1024,), eps=1e-05, elementwise_affine=True)\n",
       "      (linear1): Linear(in_features=1024, out_features=4096, bias=True)\n",
       "      (linear2): Linear(in_features=4096, out_features=1024, bias=True)\n",
       "      (dropout): Dropout(p=0.1, inplace=False)\n",
       "    )\n",
       "    (8): GPT2Block(\n",
       "      (ln1): LayerNorm((1024,), eps=1e-05, elementwise_affine=True)\n",
       "      (attn): UniAttention(\n",
       "        (qkv_proj): Linear(in_features=1024, out_features=3072, bias=True)\n",
       "        (output_proj): Linear(in_features=1024, out_features=1024, bias=True)\n",
       "      )\n",
       "      (ln2): LayerNorm((1024,), eps=1e-05, elementwise_affine=True)\n",
       "      (linear1): Linear(in_features=1024, out_features=4096, bias=True)\n",
       "      (linear2): Linear(in_features=4096, out_features=1024, bias=True)\n",
       "      (dropout): Dropout(p=0.1, inplace=False)\n",
       "    )\n",
       "    (9): GPT2Block(\n",
       "      (ln1): LayerNorm((1024,), eps=1e-05, elementwise_affine=True)\n",
       "      (attn): UniAttention(\n",
       "        (qkv_proj): Linear(in_features=1024, out_features=3072, bias=True)\n",
       "        (output_proj): Linear(in_features=1024, out_features=1024, bias=True)\n",
       "      )\n",
       "      (ln2): LayerNorm((1024,), eps=1e-05, elementwise_affine=True)\n",
       "      (linear1): Linear(in_features=1024, out_features=4096, bias=True)\n",
       "      (linear2): Linear(in_features=4096, out_features=1024, bias=True)\n",
       "      (dropout): Dropout(p=0.1, inplace=False)\n",
       "    )\n",
       "    (10): GPT2Block(\n",
       "      (ln1): LayerNorm((1024,), eps=1e-05, elementwise_affine=True)\n",
       "      (attn): UniAttention(\n",
       "        (qkv_proj): Linear(in_features=1024, out_features=3072, bias=True)\n",
       "        (output_proj): Linear(in_features=1024, out_features=1024, bias=True)\n",
       "      )\n",
       "      (ln2): LayerNorm((1024,), eps=1e-05, elementwise_affine=True)\n",
       "      (linear1): Linear(in_features=1024, out_features=4096, bias=True)\n",
       "      (linear2): Linear(in_features=4096, out_features=1024, bias=True)\n",
       "      (dropout): Dropout(p=0.1, inplace=False)\n",
       "    )\n",
       "    (11): GPT2Block(\n",
       "      (ln1): LayerNorm((1024,), eps=1e-05, elementwise_affine=True)\n",
       "      (attn): UniAttention(\n",
       "        (qkv_proj): Linear(in_features=1024, out_features=3072, bias=True)\n",
       "        (output_proj): Linear(in_features=1024, out_features=1024, bias=True)\n",
       "      )\n",
       "      (ln2): LayerNorm((1024,), eps=1e-05, elementwise_affine=True)\n",
       "      (linear1): Linear(in_features=1024, out_features=4096, bias=True)\n",
       "      (linear2): Linear(in_features=4096, out_features=1024, bias=True)\n",
       "      (dropout): Dropout(p=0.1, inplace=False)\n",
       "    )\n",
       "    (12): GPT2Block(\n",
       "      (ln1): LayerNorm((1024,), eps=1e-05, elementwise_affine=True)\n",
       "      (attn): UniAttention(\n",
       "        (qkv_proj): Linear(in_features=1024, out_features=3072, bias=True)\n",
       "        (output_proj): Linear(in_features=1024, out_features=1024, bias=True)\n",
       "      )\n",
       "      (ln2): LayerNorm((1024,), eps=1e-05, elementwise_affine=True)\n",
       "      (linear1): Linear(in_features=1024, out_features=4096, bias=True)\n",
       "      (linear2): Linear(in_features=4096, out_features=1024, bias=True)\n",
       "      (dropout): Dropout(p=0.1, inplace=False)\n",
       "    )\n",
       "    (13): GPT2Block(\n",
       "      (ln1): LayerNorm((1024,), eps=1e-05, elementwise_affine=True)\n",
       "      (attn): UniAttention(\n",
       "        (qkv_proj): Linear(in_features=1024, out_features=3072, bias=True)\n",
       "        (output_proj): Linear(in_features=1024, out_features=1024, bias=True)\n",
       "      )\n",
       "      (ln2): LayerNorm((1024,), eps=1e-05, elementwise_affine=True)\n",
       "      (linear1): Linear(in_features=1024, out_features=4096, bias=True)\n",
       "      (linear2): Linear(in_features=4096, out_features=1024, bias=True)\n",
       "      (dropout): Dropout(p=0.1, inplace=False)\n",
       "    )\n",
       "    (14): GPT2Block(\n",
       "      (ln1): LayerNorm((1024,), eps=1e-05, elementwise_affine=True)\n",
       "      (attn): UniAttention(\n",
       "        (qkv_proj): Linear(in_features=1024, out_features=3072, bias=True)\n",
       "        (output_proj): Linear(in_features=1024, out_features=1024, bias=True)\n",
       "      )\n",
       "      (ln2): LayerNorm((1024,), eps=1e-05, elementwise_affine=True)\n",
       "      (linear1): Linear(in_features=1024, out_features=4096, bias=True)\n",
       "      (linear2): Linear(in_features=4096, out_features=1024, bias=True)\n",
       "      (dropout): Dropout(p=0.1, inplace=False)\n",
       "    )\n",
       "    (15): GPT2Block(\n",
       "      (ln1): LayerNorm((1024,), eps=1e-05, elementwise_affine=True)\n",
       "      (attn): UniAttention(\n",
       "        (qkv_proj): Linear(in_features=1024, out_features=3072, bias=True)\n",
       "        (output_proj): Linear(in_features=1024, out_features=1024, bias=True)\n",
       "      )\n",
       "      (ln2): LayerNorm((1024,), eps=1e-05, elementwise_affine=True)\n",
       "      (linear1): Linear(in_features=1024, out_features=4096, bias=True)\n",
       "      (linear2): Linear(in_features=4096, out_features=1024, bias=True)\n",
       "      (dropout): Dropout(p=0.1, inplace=False)\n",
       "    )\n",
       "    (16): GPT2Block(\n",
       "      (ln1): LayerNorm((1024,), eps=1e-05, elementwise_affine=True)\n",
       "      (attn): UniAttention(\n",
       "        (qkv_proj): Linear(in_features=1024, out_features=3072, bias=True)\n",
       "        (output_proj): Linear(in_features=1024, out_features=1024, bias=True)\n",
       "      )\n",
       "      (ln2): LayerNorm((1024,), eps=1e-05, elementwise_affine=True)\n",
       "      (linear1): Linear(in_features=1024, out_features=4096, bias=True)\n",
       "      (linear2): Linear(in_features=4096, out_features=1024, bias=True)\n",
       "      (dropout): Dropout(p=0.1, inplace=False)\n",
       "    )\n",
       "    (17): GPT2Block(\n",
       "      (ln1): LayerNorm((1024,), eps=1e-05, elementwise_affine=True)\n",
       "      (attn): UniAttention(\n",
       "        (qkv_proj): Linear(in_features=1024, out_features=3072, bias=True)\n",
       "        (output_proj): Linear(in_features=1024, out_features=1024, bias=True)\n",
       "      )\n",
       "      (ln2): LayerNorm((1024,), eps=1e-05, elementwise_affine=True)\n",
       "      (linear1): Linear(in_features=1024, out_features=4096, bias=True)\n",
       "      (linear2): Linear(in_features=4096, out_features=1024, bias=True)\n",
       "      (dropout): Dropout(p=0.1, inplace=False)\n",
       "    )\n",
       "    (18): GPT2Block(\n",
       "      (ln1): LayerNorm((1024,), eps=1e-05, elementwise_affine=True)\n",
       "      (attn): UniAttention(\n",
       "        (qkv_proj): Linear(in_features=1024, out_features=3072, bias=True)\n",
       "        (output_proj): Linear(in_features=1024, out_features=1024, bias=True)\n",
       "      )\n",
       "      (ln2): LayerNorm((1024,), eps=1e-05, elementwise_affine=True)\n",
       "      (linear1): Linear(in_features=1024, out_features=4096, bias=True)\n",
       "      (linear2): Linear(in_features=4096, out_features=1024, bias=True)\n",
       "      (dropout): Dropout(p=0.1, inplace=False)\n",
       "    )\n",
       "    (19): GPT2Block(\n",
       "      (ln1): LayerNorm((1024,), eps=1e-05, elementwise_affine=True)\n",
       "      (attn): UniAttention(\n",
       "        (qkv_proj): Linear(in_features=1024, out_features=3072, bias=True)\n",
       "        (output_proj): Linear(in_features=1024, out_features=1024, bias=True)\n",
       "      )\n",
       "      (ln2): LayerNorm((1024,), eps=1e-05, elementwise_affine=True)\n",
       "      (linear1): Linear(in_features=1024, out_features=4096, bias=True)\n",
       "      (linear2): Linear(in_features=4096, out_features=1024, bias=True)\n",
       "      (dropout): Dropout(p=0.1, inplace=False)\n",
       "    )\n",
       "    (20): GPT2Block(\n",
       "      (ln1): LayerNorm((1024,), eps=1e-05, elementwise_affine=True)\n",
       "      (attn): UniAttention(\n",
       "        (qkv_proj): Linear(in_features=1024, out_features=3072, bias=True)\n",
       "        (output_proj): Linear(in_features=1024, out_features=1024, bias=True)\n",
       "      )\n",
       "      (ln2): LayerNorm((1024,), eps=1e-05, elementwise_affine=True)\n",
       "      (linear1): Linear(in_features=1024, out_features=4096, bias=True)\n",
       "      (linear2): Linear(in_features=4096, out_features=1024, bias=True)\n",
       "      (dropout): Dropout(p=0.1, inplace=False)\n",
       "    )\n",
       "    (21): GPT2Block(\n",
       "      (ln1): LayerNorm((1024,), eps=1e-05, elementwise_affine=True)\n",
       "      (attn): UniAttention(\n",
       "        (qkv_proj): Linear(in_features=1024, out_features=3072, bias=True)\n",
       "        (output_proj): Linear(in_features=1024, out_features=1024, bias=True)\n",
       "      )\n",
       "      (ln2): LayerNorm((1024,), eps=1e-05, elementwise_affine=True)\n",
       "      (linear1): Linear(in_features=1024, out_features=4096, bias=True)\n",
       "      (linear2): Linear(in_features=4096, out_features=1024, bias=True)\n",
       "      (dropout): Dropout(p=0.1, inplace=False)\n",
       "    )\n",
       "    (22): GPT2Block(\n",
       "      (ln1): LayerNorm((1024,), eps=1e-05, elementwise_affine=True)\n",
       "      (attn): UniAttention(\n",
       "        (qkv_proj): Linear(in_features=1024, out_features=3072, bias=True)\n",
       "        (output_proj): Linear(in_features=1024, out_features=1024, bias=True)\n",
       "      )\n",
       "      (ln2): LayerNorm((1024,), eps=1e-05, elementwise_affine=True)\n",
       "      (linear1): Linear(in_features=1024, out_features=4096, bias=True)\n",
       "      (linear2): Linear(in_features=4096, out_features=1024, bias=True)\n",
       "      (dropout): Dropout(p=0.1, inplace=False)\n",
       "    )\n",
       "    (23): GPT2Block(\n",
       "      (ln1): LayerNorm((1024,), eps=1e-05, elementwise_affine=True)\n",
       "      (attn): UniAttention(\n",
       "        (qkv_proj): Linear(in_features=1024, out_features=3072, bias=True)\n",
       "        (output_proj): Linear(in_features=1024, out_features=1024, bias=True)\n",
       "      )\n",
       "      (ln2): LayerNorm((1024,), eps=1e-05, elementwise_affine=True)\n",
       "      (linear1): Linear(in_features=1024, out_features=4096, bias=True)\n",
       "      (linear2): Linear(in_features=4096, out_features=1024, bias=True)\n",
       "      (dropout): Dropout(p=0.1, inplace=False)\n",
       "    )\n",
       "  )\n",
       "  (ln): LayerNorm((1024,), eps=1e-05, elementwise_affine=True)\n",
       ")"
      ]
     },
     "execution_count": 65,
     "metadata": {},
     "output_type": "execute_result"
    }
   ],
   "source": [
    "gpt"
   ]
  },
  {
   "cell_type": "code",
   "execution_count": 17,
   "metadata": {},
   "outputs": [],
   "source": [
    "gpt.to(device);"
   ]
  },
  {
   "cell_type": "code",
   "execution_count": null,
   "metadata": {},
   "outputs": [],
   "source": []
  }
 ],
 "metadata": {
  "interpreter": {
   "hash": "65f90a54bef3c0d24f3b083491395768f5761cc8b5f4afc0423ab2e58fdb3112"
  },
  "kernelspec": {
   "display_name": "Python 3.9.9 64-bit ('rome': conda)",
   "language": "python",
   "name": "python3"
  },
  "language_info": {
   "codemirror_mode": {
    "name": "ipython",
    "version": 3
   },
   "file_extension": ".py",
   "mimetype": "text/x-python",
   "name": "python",
   "nbconvert_exporter": "python",
   "pygments_lexer": "ipython3",
   "version": "3.8.10"
  },
  "orig_nbformat": 4
 },
 "nbformat": 4,
 "nbformat_minor": 2
}
