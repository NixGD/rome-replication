{
 "cells": [
  {
   "cell_type": "code",
   "execution_count": 36,
   "metadata": {},
   "outputs": [
    {
     "name": "stdout",
     "output_type": "stream",
     "text": [
      "The autoreload extension is already loaded. To reload it, use:\n",
      "  %reload_ext autoreload\n"
     ]
    }
   ],
   "source": [
    "%load_ext autoreload\n",
    "%autoreload 2"
   ]
  },
  {
   "cell_type": "code",
   "execution_count": 37,
   "metadata": {},
   "outputs": [],
   "source": [
    "from collections import namedtuple\n",
    "import warnings\n",
    "\n",
    "import torch as t\n",
    "import numpy as np\n",
    "import matplotlib.pyplot as plt\n",
    "\n",
    "from transformers import GPT2TokenizerFast\n",
    "from transformers.models.gpt2.tokenization_gpt2_fast import GPT2TokenizerFast\n",
    "import datasets\n",
    "\n",
    "from gpt import GPT2, get_pretrained_gpt, Corruption, Patch\n",
    "from hook_handler import HookHandler"
   ]
  },
  {
   "cell_type": "code",
   "execution_count": 84,
   "metadata": {},
   "outputs": [
    {
     "name": "stdout",
     "output_type": "stream",
     "text": [
      "using cpu\n"
     ]
    }
   ],
   "source": [
    "device = \"cpu\" #\"cuda\" if t.cuda.is_available() else \"cpu\"\n",
    "print(f\"using {device}\")"
   ]
  },
  {
   "cell_type": "code",
   "execution_count": 82,
   "metadata": {},
   "outputs": [
    {
     "name": "stderr",
     "output_type": "stream",
     "text": [
      "/home/ubuntu/.local/lib/python3.8/site-packages/torch/_tensor.py:1013: UserWarning: The .grad attribute of a Tensor that is not a leaf Tensor is being accessed. Its .grad attribute won't be populated during autograd.backward(). If you indeed want the .grad field to be populated for a non-leaf Tensor, use .retain_grad() on the non-leaf Tensor. If you access the non-leaf Tensor by mistake, make sure you access the leaf Tensor instead. See github.com/pytorch/pytorch/pull/30531 for more informations. (Triggered internally at  aten/src/ATen/core/TensorBody.h:417.)\n",
      "  return self._grad\n"
     ]
    }
   ],
   "source": [
    "gpt = get_pretrained_gpt(size=\"base\")\n",
    "gpt.to(device)\n",
    "gpt.eval();\n",
    "tokenizer = gpt.tokenizer"
   ]
  },
  {
   "cell_type": "code",
   "execution_count": 41,
   "metadata": {},
   "outputs": [
    {
     "data": {
      "text/plain": [
       "\"The problem with modern culture is that you can't have the very best and badest of them at once. The show from the '80s is brilliant, but it's not\""
      ]
     },
     "execution_count": 41,
     "metadata": {},
     "output_type": "execute_result"
    }
   ],
   "source": [
    "gpt.generate(\"The problem with modern culture is\", temperature=.8, device=device)"
   ]
  },
  {
   "cell_type": "code",
   "execution_count": 42,
   "metadata": {},
   "outputs": [],
   "source": [
    "def most_likely(model, fact, k=5):\n",
    "    subject_ids = tokenizer.encode(fact.subject, return_tensors=\"pt\").to(device)\n",
    "    relation_ids = tokenizer.encode(fact.relation, return_tensors=\"pt\").to(device)\n",
    "    input_ids = t.cat((subject_ids, relation_ids), dim=1)\n",
    "    model_out = model(input_ids)\n",
    "    target_probs = t.softmax(model_out.logits.squeeze(0), dim=0)\n",
    "    top_probs, top_ids = t.topk(target_probs, k=k)\n",
    "    for i in range(k):\n",
    "        token = tokenizer.decode(top_ids[i])\n",
    "        print(f\"{repr(token).ljust(15)}{top_probs[i]:.2%}\")"
   ]
  },
  {
   "cell_type": "code",
   "execution_count": 43,
   "metadata": {},
   "outputs": [],
   "source": [
    "Fact = namedtuple(\"Fact\", ['subject', 'relation', 'object'])\n",
    "example_facts = [\n",
    "    Fact(\"Pelé\", \" plays the sport of\", \" soccer\"),\n",
    "    Fact(\"The Eiffel Tower\", \" is in the city of\", \" Paris\")\n",
    "]"
   ]
  },
  {
   "cell_type": "code",
   "execution_count": 75,
   "metadata": {},
   "outputs": [
    {
     "name": "stdout",
     "output_type": "stream",
     "text": [
      "Input:\n",
      "'P' 'el' 'é' ' used' ' to' ' play' ' the' ' sport' ' of' \n",
      "\n",
      "Prob ability of the correct answer (' soccer')\n",
      "normal gpt: 15.41%\n",
      "corrupted:  1.43%\n"
     ]
    },
    {
     "data": {
      "image/png": "[encoded data removed]",
      "text/plain": [
       "<Figure size 768x288 with 2 Axes>"
      ]
     },
     "metadata": {
      "needs_background": "light"
     },
     "output_type": "display_data"
    }
   ],
   "source": [
    "def get_correct_prob(out, correct_id):\n",
    "    return t.softmax(out.logits[0], dim=-1)[correct_id].item()\n",
    "\n",
    "\n",
    "def print_tokenized(ids):\n",
    "    l = tokenizer.batch_decode([[id] for id in ids])\n",
    "    for t in l:\n",
    "        print(repr(t), end=\" \")\n",
    "    print()\n",
    "\n",
    "\n",
    "def run_baseline(model, input_ids, correct_id):\n",
    "    with HookHandler() as hh:\n",
    "        for i, block in enumerate(model.blocks):\n",
    "            hh.add_save_activation_hook(block, key=i)\n",
    "\n",
    "        logits = model(input_ids)\n",
    "        correct_prob = get_correct_prob(logits, correct_id)\n",
    "        return hh.activations, correct_prob\n",
    "\n",
    "\n",
    "def avg_evaluate(model, input_ids, correct_id, k=5, **kwargs):\n",
    "    probs = []\n",
    "    seeds = range(k)\n",
    "    for seed in seeds:\n",
    "        t.manual_seed(seed)\n",
    "        corrupt_out = model.forward_corrupt_and_patch(input_ids, **kwargs)\n",
    "        probs.append(get_correct_prob(corrupt_out, correct_id))\n",
    "    return sum(probs) / k\n",
    "\n",
    "def fact_tensors(fact, tokenizer):\n",
    "    if fact.relation[0] != \" \":\n",
    "        warnings.warn(f\"The fact relation {fact.relation} does not start with a space\")\n",
    "    if fact.object[0] != \" \":\n",
    "        warnings.warn(f\"The fact object {fact.object} does not start with a space\")\n",
    "\n",
    "    subject_ids = tokenizer.encode(fact.subject, return_tensors=\"pt\").to(device)\n",
    "    relation_ids = tokenizer.encode(fact.relation, return_tensors=\"pt\").to(device)\n",
    "    subj_len = subject_ids.shape[1]\n",
    "    input_ids = t.cat((subject_ids, relation_ids), dim=1)\n",
    "\n",
    "    correct_id = tokenizer.encode(fact.object)\n",
    "    if len(correct_id) != 1:\n",
    "        warnings.warn(\n",
    "            f\"The fact object {fact.object} is {len(correct_id)} tokens long, only using first token\"\n",
    "        )\n",
    "    correct_id = correct_id[0]\n",
    "\n",
    "    return input_ids, subj_len, correct_id\n",
    "\n",
    "\n",
    "def patching(\n",
    "    model: GPT2, tokenizer, fact: Fact, k=3, noise_std=0.4, plot=True\n",
    "):\n",
    "    input_ids, subj_len, correct_id = fact_tensors(fact, tokenizer)\n",
    "    activations, p_baseline = run_baseline(model, input_ids, correct_id)\n",
    "\n",
    "    corruption = Corruption(subj_len, noise_std)\n",
    "    p_corrupted = avg_evaluate(\n",
    "        model,\n",
    "        input_ids=input_ids,\n",
    "        correct_id=correct_id,\n",
    "        k=k,\n",
    "        corruption=corruption,\n",
    "    )\n",
    "    \n",
    "    print(f\"Input:\")\n",
    "    print_tokenized(input_ids[0])\n",
    "\n",
    "    print(f\"\\nProb ability of the correct answer ({repr(fact.object)})\")\n",
    "    print(f\"normal gpt: {p_baseline:.2%}\")\n",
    "    print(f\"corrupted:  {p_corrupted:.2%}\")\n",
    "\n",
    "    n_layers = len(model.blocks)\n",
    "    n_tokens = input_ids.shape[1]\n",
    "    avg_prob = np.zeros((n_tokens, n_layers))\n",
    "    for token in range(n_tokens):\n",
    "        for layer in range(n_layers):\n",
    "            patch_value = activations[layer][0, token]\n",
    "            patch = Patch(type=\"act\", token=token, layer=layer, value=patch_value)\n",
    "            prob = avg_evaluate(\n",
    "                model,\n",
    "                input_ids=input_ids,\n",
    "                correct_id=correct_id,\n",
    "                k=k,\n",
    "                patch=patch,\n",
    "                corruption=corruption,\n",
    "            )\n",
    "            avg_prob[token, layer] = prob\n",
    "\n",
    "    if plot:\n",
    "        plt.matshow(avg_prob, vmin=p_corrupted, vmax=p_baseline, cmap=\"Blues\")\n",
    "        l = tokenizer.batch_decode([[id] for id in input_ids[0]])\n",
    "        plt.yticks(ticks=range(n_tokens), labels=[repr(t) for t in l])\n",
    "        plt.xlabel(\"Patching activation at single layer\")\n",
    "        plt.gca().xaxis.set_label_position(\"top\")\n",
    "        plt.colorbar()\n",
    "    return avg_prob\n",
    "\n",
    "probs = patching(\n",
    "    gpt, tokenizer, example_facts[0], k=3\n",
    ")"
   ]
  },
  {
   "cell_type": "code",
   "execution_count": 45,
   "metadata": {},
   "outputs": [
    {
     "name": "stdout",
     "output_type": "stream",
     "text": [
      "' soccer'      15.41%\n",
      "' football'    9.09%\n",
      "' basketball'  6.96%\n",
      "' boxing'      6.14%\n",
      "' tennis'      5.64%\n"
     ]
    }
   ],
   "source": [
    "most_likely(gpt, example_facts[0])"
   ]
  },
  {
   "cell_type": "markdown",
   "metadata": {},
   "source": [
    "# Rank-One Model Editing"
   ]
  },
  {
   "cell_type": "markdown",
   "metadata": {},
   "source": [
    "## Finding C and k*"
   ]
  },
  {
   "cell_type": "code",
   "execution_count": 33,
   "metadata": {},
   "outputs": [
    {
     "data": {
      "text/plain": [
       "Linear(in_features=4096, out_features=1024, bias=True)"
      ]
     },
     "execution_count": 33,
     "metadata": {},
     "output_type": "execute_result"
    }
   ],
   "source": [
    "gpt.blocks[3].linear2"
   ]
  },
  {
   "cell_type": "code",
   "execution_count": 27,
   "metadata": {},
   "outputs": [
    {
     "name": "stderr",
     "output_type": "stream",
     "text": [
      "Reusing dataset wikitext (/home/ubuntu/.cache/huggingface/datasets/wikitext/wikitext-2-v1/1.0.0/a241db52902eaf2c6aa732210bead40c090019a499ceb13bcbfa3f8ab646a126)\n"
     ]
    },
    {
     "data": {
      "application/vnd.jupyter.widget-view+json": {
       "model_id": "197da3a26d774e52b0447e0c8f47ea77",
       "version_major": 2,
       "version_minor": 0
      },
      "text/plain": [
       "  0%|          | 0/36718 [00:00<?, ?ex/s]"
      ]
     },
     "metadata": {},
     "output_type": "display_data"
    }
   ],
   "source": [
    "dataset = datasets.load_dataset('wikitext', 'wikitext-2-v1', split='train')\n",
    "dataset = dataset.map(lambda e: tokenizer(e['text'], truncation=True))\n",
    "dataset.set_format(type='torch', columns=['text', 'input_ids'])"
   ]
  },
  {
   "cell_type": "code",
   "execution_count": 31,
   "metadata": {},
   "outputs": [
    {
     "data": {
      "text/plain": [
       "36718"
      ]
     },
     "execution_count": 31,
     "metadata": {},
     "output_type": "execute_result"
    }
   ],
   "source": [
    "len(dataset)"
   ]
  },
  {
   "cell_type": "code",
   "execution_count": 58,
   "metadata": {},
   "outputs": [
    {
     "name": "stdout",
     "output_type": "stream",
     "text": [
      "torch.Size([4096, 62765])\n"
     ]
    }
   ],
   "source": [
    "def estimate_C(model, layer, dataset):\n",
    "    linear = model.blocks[layer].linear2\n",
    "    \n",
    "    with HookHandler() as hh:\n",
    "        hh.add_save_input_hook(linear)\n",
    "\n",
    "        for input_ids in dataset['input_ids'][:1000]:\n",
    "            if input_ids.shape[0] > 0:\n",
    "                input_ids = input_ids.unsqueeze(0).to(device)\n",
    "                model(input_ids)\n",
    "        \n",
    "        input_tensor = t.cat(hh.inputs, dim=1).squeeze(0).T\n",
    "    print(input_tensor.shape)\n",
    "    C = t.cov(input_tensor)\n",
    "\n",
    "c9 = estimate_C(gpt, 9, dataset)"
   ]
  },
  {
   "cell_type": "code",
   "execution_count": 59,
   "metadata": {},
   "outputs": [
    {
     "data": {
      "text/plain": [
       "tensor([-0.1049, -0.1267, -0.0477,  ..., -0.0048, -0.0840, -0.0669],\n",
       "       device='cuda:0')"
      ]
     },
     "execution_count": 59,
     "metadata": {},
     "output_type": "execute_result"
    }
   ],
   "source": [
    "def get_k_star(model, layer, fact):\n",
    "    linear = model.blocks[layer].linear2\n",
    "    with HookHandler() as hh:\n",
    "        hh.add_save_input_hook(linear)\n",
    "        input_ids = tokenizer.encode(fact.subject, return_tensors=\"pt\").to(device)\n",
    "        model(input_ids)\n",
    "        return hh.inputs[0][0,-1,:]\n",
    "\n",
    "get_k_star(gpt, 9, example_facts[0])"
   ]
  },
  {
   "cell_type": "markdown",
   "metadata": {},
   "source": [
    "## Optimizing for v"
   ]
  },
  {
   "cell_type": "code",
   "execution_count": 89,
   "metadata": {},
   "outputs": [
    {
     "name": "stdout",
     "output_type": "stream",
     "text": [
      "9.089139938354492\n",
      "9.088784217834473\n",
      "9.088382720947266\n",
      "9.088030815124512\n",
      "9.087662696838379\n",
      "9.087302207946777\n"
     ]
    }
   ],
   "source": [
    "def get_z_star(model: GPT2, layer: int, fact: Fact, new_obj: str):\n",
    "    input_ids, subj_len, _ = fact_tensors(fact, tokenizer) \n",
    "    new_obj_id = tokenizer.encode(new_obj, return_tensors='pt')\n",
    "    assert len(new_obj_id) == 1\n",
    "    new_obj_id = new_obj_id[0].to(device)\n",
    "\n",
    "    z = t.randn(model.hidden_size, device=device, requires_grad=True)\n",
    "    optim = t.optim.SGD([z], lr=1e-1)\n",
    "    for step in range(100):\n",
    "        optim.zero_grad()\n",
    "        patch = Patch(\"mlp\", subj_len, 9, z)\n",
    "        out = model.forward_corrupt_and_patch(input_ids, patch=patch)\n",
    "        new_obj_prob = out.logits.softmax(dim=-1)[0, new_obj_id]\n",
    "        loss = - t.log(new_obj_prob)\n",
    "        loss.backward()\n",
    "        optim.step()\n",
    "        \n",
    "        if step % 10 == 0:\n",
    "            print(loss.item())\n",
    "\n",
    "get_z_star(gpt, 9, example_facts[0], \" baseball\")"
   ]
  },
  {
   "cell_type": "code",
   "execution_count": null,
   "metadata": {},
   "outputs": [],
   "source": []
  },
  {
   "cell_type": "code",
   "execution_count": 85,
   "metadata": {},
   "outputs": [],
   "source": [
    "gpt.to(device);"
   ]
  },
  {
   "cell_type": "code",
   "execution_count": null,
   "metadata": {},
   "outputs": [],
   "source": []
  }
 ],
 "metadata": {
  "interpreter": {
   "hash": "65f90a54bef3c0d24f3b083491395768f5761cc8b5f4afc0423ab2e58fdb3112"
  },
  "kernelspec": {
   "display_name": "Python 3.9.9 64-bit ('rome': conda)",
   "language": "python",
   "name": "python3"
  },
  "language_info": {
   "codemirror_mode": {
    "name": "ipython",
    "version": 3
   },
   "file_extension": ".py",
   "mimetype": "text/x-python",
   "name": "python",
   "nbconvert_exporter": "python",
   "pygments_lexer": "ipython3",
   "version": "3.8.10"
  },
  "orig_nbformat": 4
 },
 "nbformat": 4,
 "nbformat_minor": 2
}
