{
 "cells": [
  {
   "cell_type": "code",
   "execution_count": 46,
   "metadata": {},
   "outputs": [
    {
     "name": "stdout",
     "output_type": "stream",
     "text": [
      "The autoreload extension is already loaded. To reload it, use:\n",
      "  %reload_ext autoreload\n"
     ]
    }
   ],
   "source": [
    "%load_ext autoreload\n",
    "%autoreload 2"
   ]
  },
  {
   "cell_type": "code",
   "execution_count": 80,
   "metadata": {},
   "outputs": [],
   "source": [
    "import torch as t\n",
    "import numpy as np\n",
    "import matplotlib.pyplot as plt\n",
    "\n",
    "from transformers import GPT2TokenizerFast\n",
    "from transformers.models.gpt2.tokenization_gpt2_fast import GPT2TokenizerFast\n",
    "\n",
    "from gpt import GPT2, load_weights\n",
    "from hook_handler import HookHandler"
   ]
  },
  {
   "cell_type": "code",
   "execution_count": 48,
   "metadata": {},
   "outputs": [],
   "source": [
    "gpt = load_weights(GPT2)\n",
    "gpt.eval();\n",
    "tokenizer = GPT2TokenizerFast.from_pretrained('gpt2')"
   ]
  },
  {
   "cell_type": "code",
   "execution_count": 49,
   "metadata": {},
   "outputs": [
    {
     "name": "stdout",
     "output_type": "stream",
     "text": [
      "Baseline completions\n",
      "' Paris'       6.37%\n",
      "' London'      4.61%\n",
      "' Amsterdam'   3.41%\n",
      "' New'         3.18%\n",
      "' Berlin'      2.61%\n"
     ]
    }
   ],
   "source": [
    "def most_likely(model_out, k=5):\n",
    "    target_probs = t.softmax(model_out.logits.squeeze(0), dim=0)\n",
    "    top_probs, top_ids = t.topk(target_probs, k=k)\n",
    "    for i in range(k):\n",
    "        token = tokenizer.decode(top_ids[i])\n",
    "        print(f\"{repr(token).ljust(15)}{top_probs[i]:.2%}\")\n",
    "\n",
    "with HookHandler() as hh:\n",
    "    for i, block in enumerate(gpt.blocks):\n",
    "        hh.add_save_activation_hook(block, key=i)\n",
    "\n",
    "    input_ids = tokenizer.encode(\"The Eiffel Tower is located in the city of\", return_tensors=\"pt\")\n",
    "    out = gpt(input_ids)\n",
    "    activations = hh.activations\n",
    "\n",
    "    print(\"Baseline completions\")\n",
    "    most_likely(gpt(input_ids))"
   ]
  },
  {
   "cell_type": "code",
   "execution_count": 50,
   "metadata": {},
   "outputs": [
    {
     "data": {
      "text/plain": [
       "[40313]"
      ]
     },
     "execution_count": 50,
     "metadata": {},
     "output_type": "execute_result"
    }
   ],
   "source": [
    "tokenizer.encode(\"Paris\")"
   ]
  },
  {
   "cell_type": "code",
   "execution_count": 83,
   "metadata": {},
   "outputs": [
    {
     "name": "stdout",
     "output_type": "stream",
     "text": [
      "'The' ' E' 'iff' 'el' ' Tower' 'is' ' located' ' in' ' the' ' city' ' of' \n",
      "0.04820826277136803\n"
     ]
    }
   ],
   "source": [
    "def get_correct_prob(out, correct_id):\n",
    "    return t.softmax(out.logits[0], dim=-1)[correct_id].item()\n",
    "\n",
    "\n",
    "def print_tokenized(ids):\n",
    "    l = tokenizer.batch_decode([[id] for id in ids])\n",
    "    for t in l:\n",
    "        print(repr(t), end=\" \")\n",
    "    print()\n",
    "\n",
    "\n",
    "def run_baseline(model, input_ids, correct_id):\n",
    "    with HookHandler() as hh:\n",
    "        for i, block in enumerate(model.blocks):\n",
    "            hh.add_save_activation_hook(block, key=i)\n",
    "\n",
    "        logits = model(input_ids)\n",
    "        correct_prob = get_correct_prob(logits, correct_id)\n",
    "        return hh.activations, correct_prob\n",
    "\n",
    "def avg_evaluate(model, input_ids, correct_id, k=5, **kwargs):\n",
    "    probs = []\n",
    "    seeds = range(k)\n",
    "    for seed in seeds:\n",
    "        t.manual_seed(seed)\n",
    "        corrupt_out = model.forward_corrupt_and_patch(\n",
    "            input_ids, **kwargs\n",
    "        )\n",
    "        probs.append(get_correct_prob(corrupt_out, correct_id))\n",
    "    return sum(probs)/k\n",
    "\n",
    "def patching(model: GPT2, tokenizer, subject, relation, target):\n",
    "    subject_ids = tokenizer.encode(subject, return_tensors=\"pt\")\n",
    "    relation_ids = tokenizer.encode(relation, return_tensors=\"pt\")\n",
    "    subj_len = subject_ids.shape[1]\n",
    "    input_ids = t.cat((subject_ids, relation_ids), dim=1)\n",
    "    print_tokenized(input_ids[0])\n",
    "    correct_id = tokenizer.encode(target)\n",
    "    assert len(correct_id) == 1\n",
    "    correct_id = correct_id[0]\n",
    "\n",
    "    activations, p_baseline = run_baseline(model, input_ids, correct_id)\n",
    "\n",
    "    print(p_baseline)\n",
    "\n",
    "    n_layers = len(model.blocks)\n",
    "    n_tokens = input_ids.shape[1]\n",
    "    avg_prob = np.zeros((n_tokens, n_layers))\n",
    "    for patch_token in range(n_tokens):\n",
    "        for layer in range(n_layers):\n",
    "            patch_value = activations[layer][0, patch_token]\n",
    "            prob = avg_evaluate(\n",
    "                model, input_ids=input_ids, correct_id=correct_id, k=3,\n",
    "                patch=True, patch_layer=layer, patch_value=patch_value, patch_id=patch_token,\n",
    "                corrupt=True, corrupt_up_to=subj_len, corrupt_noise_std=.1\n",
    "            )\n",
    "            avg_prob[patch_token, layer] = prob\n",
    "    return avg_prob\n",
    "\n",
    "probs = patching(gpt, tokenizer, \"The Eiffel Tower\", \"is located in the city of\", \" Paris\")"
   ]
  },
  {
   "cell_type": "code",
   "execution_count": 84,
   "metadata": {},
   "outputs": [
    {
     "data": {
      "text/plain": [
       "<matplotlib.image.AxesImage at 0x154ede820>"
      ]
     },
     "execution_count": 84,
     "metadata": {},
     "output_type": "execute_result"
    },
    {
     "data": {
      "image/png": "[encoded data removed]",
      "text/plain": [
       "<Figure size 314.182x288 with 1 Axes>"
      ]
     },
     "metadata": {
      "needs_background": "light"
     },
     "output_type": "display_data"
    }
   ],
   "source": [
    "plt.matshow(probs)"
   ]
  },
  {
   "cell_type": "code",
   "execution_count": 85,
   "metadata": {},
   "outputs": [
    {
     "data": {
      "text/plain": [
       "array([[0.02436324, 0.0219464 , 0.02216303, 0.02210568, 0.02213864,\n",
       "        0.02211011, 0.02217013, 0.02220609, 0.0222077 , 0.02221264,\n",
       "        0.02217421, 0.02217815],\n",
       "       [0.02742387, 0.02511661, 0.02366233, 0.02321812, 0.0229683 ,\n",
       "        0.02304354, 0.02290683, 0.02285297, 0.0224273 , 0.02226189,\n",
       "        0.02227878, 0.02217815],\n",
       "       [0.03092285, 0.03076629, 0.03049103, 0.03024837, 0.03166145,\n",
       "        0.03233708, 0.02862963, 0.02714776, 0.02644857, 0.02268049,\n",
       "        0.0220969 , 0.02217815],\n",
       "       [0.02403027, 0.02531252, 0.02601109, 0.02486087, 0.02420756,\n",
       "        0.02007296, 0.02181539, 0.02190646, 0.02340199, 0.02274748,\n",
       "        0.02226583, 0.02217815],\n",
       "       [0.02661828, 0.02848907, 0.02964423, 0.03104737, 0.03228635,\n",
       "        0.03143164, 0.03041397, 0.02951983, 0.0261109 , 0.02301843,\n",
       "        0.02249195, 0.02217815],\n",
       "       [0.02296451, 0.02386267, 0.02299169, 0.0225172 , 0.02199822,\n",
       "        0.02252349, 0.02271045, 0.02320788, 0.0231623 , 0.02232462,\n",
       "        0.02219917, 0.02217815],\n",
       "       [0.02242437, 0.02271294, 0.02260925, 0.02264615, 0.02250552,\n",
       "        0.02288986, 0.02277154, 0.02269129, 0.02246642, 0.02223754,\n",
       "        0.02221829, 0.02217815],\n",
       "       [0.02262733, 0.02306268, 0.0230798 , 0.02305185, 0.02300157,\n",
       "        0.02348148, 0.02391154, 0.02391322, 0.0242654 , 0.02480979,\n",
       "        0.02412171, 0.02217815],\n",
       "       [0.02225488, 0.02233491, 0.02215855, 0.02229083, 0.02233959,\n",
       "        0.02238306, 0.02254757, 0.02244366, 0.02264983, 0.02281817,\n",
       "        0.02253364, 0.02217815],\n",
       "       [0.02186564, 0.02226191, 0.02211637, 0.02218438, 0.02264744,\n",
       "        0.02279624, 0.02347794, 0.0231044 , 0.02285432, 0.02254276,\n",
       "        0.02230629, 0.02217815],\n",
       "       [0.02215604, 0.02240325, 0.02319735, 0.02312602, 0.0229889 ,\n",
       "        0.02320304, 0.02369463, 0.02485417, 0.02706007, 0.03818798,\n",
       "        0.04300764, 0.04820826]])"
      ]
     },
     "execution_count": 85,
     "metadata": {},
     "output_type": "execute_result"
    }
   ],
   "source": [
    "probs"
   ]
  },
  {
   "cell_type": "code",
   "execution_count": null,
   "metadata": {},
   "outputs": [],
   "source": [
    "print(\"Zeroed out 'theory' token\")\n",
    "for i in range(12):\n",
    "    print(f\"on layer {i}\")\n",
    "    most_likely(gpt.forward_patched_activation(input_ids, 3, i, t.zeros(768)), k=2)\n"
   ]
  },
  {
   "cell_type": "code",
   "execution_count": null,
   "metadata": {},
   "outputs": [],
   "source": []
  }
 ],
 "metadata": {
  "interpreter": {
   "hash": "65f90a54bef3c0d24f3b083491395768f5761cc8b5f4afc0423ab2e58fdb3112"
  },
  "kernelspec": {
   "display_name": "Python 3.9.9 64-bit ('rome': conda)",
   "language": "python",
   "name": "python3"
  },
  "language_info": {
   "codemirror_mode": {
    "name": "ipython",
    "version": 3
   },
   "file_extension": ".py",
   "mimetype": "text/x-python",
   "name": "python",
   "nbconvert_exporter": "python",
   "pygments_lexer": "ipython3",
   "version": "3.9.9"
  },
  "orig_nbformat": 4
 },
 "nbformat": 4,
 "nbformat_minor": 2
}
